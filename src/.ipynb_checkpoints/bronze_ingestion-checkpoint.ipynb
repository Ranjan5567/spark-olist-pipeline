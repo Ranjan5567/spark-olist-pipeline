{
 "cells": [
  {
   "cell_type": "code",
   "execution_count": 1,
   "id": "05e148c0-7622-4cf1-85ec-7ab637656b67",
   "metadata": {},
   "outputs": [],
   "source": [
    "import os\n",
    "os.environ[\"PYSPARK_PYTHON\"] = r\"C:\\Users\\ranjan\\Desktop\\spark-olist-pipeline\\venv\\Scripts\\python.exe\"\n",
    "os.environ[\"PYSPARK_DRIVER_PYTHON\"] = r\"C:\\Users\\ranjan\\Desktop\\spark-olist-pipeline\\venv\\Scripts\\python.exe\"\n",
    "os.environ[\"spark.python.worker.reuse\"] = \"true\""
   ]
  },
  {
   "cell_type": "code",
   "execution_count": 6,
   "id": "3ca99162-d07f-4326-aaf2-e1ff539c16f0",
   "metadata": {},
   "outputs": [],
   "source": [
    "import sys\n",
    "sys.path.append(os.path.abspath(\"../src\")) \n",
    "from bronze import create_spark_session, ingest_csv_to_delta\n"
   ]
  },
  {
   "cell_type": "code",
   "execution_count": null,
   "id": "1517a662-7623-4991-9706-f518de9ec22a",
   "metadata": {},
   "outputs": [],
   "source": [
    "# Start Spark\n",
    "spark = create_spark_session(\"BronzeIngestion\")\n"
   ]
  },
  {
   "cell_type": "code",
   "execution_count": null,
   "id": "08e0ccdf-d26e-452a-a454-da33cb2779bc",
   "metadata": {},
   "outputs": [],
   "source": [
    "# Define tables (CSV path, Delta path, partition column)\n",
    "tables = [\n",
    "    (\"data/orders.csv\", \"delta/bronze/orders\", \"purchase_date\"),\n",
    "    (\"data/customers.csv\", \"delta/bronze/customers\", None),\n",
    "    (\"data/order_items.csv\", \"delta/bronze/order_items\", None),\n",
    "    (\"data/sellers.csv\", \"delta/bronze/sellers\", None),\n",
    "    (\"data/products.csv\", \"delta/bronze/products\", None),\n",
    "    (\"data/geolocation.csv\", \"delta/bronze/geolocation\", None),\n",
    "    (\"data/payments.csv\", \"delta/bronze/payments\", None),\n",
    "]\n"
   ]
  },
  {
   "cell_type": "code",
   "execution_count": null,
   "id": "be20da54-06fb-4ac9-853f-c885232cef26",
   "metadata": {},
   "outputs": [],
   "source": [
    "# Ingest CSVs\n",
    "for csv_path, delta_path, partition_col in tables:\n",
    "    df = ingest_csv_to_delta(spark, csv_path, delta_path, partition_col)\n",
    "    print(f\"Ingested {csv_path} -> {delta_path}\")\n",
    "    df.show(3)\n",
    "\n"
   ]
  },
  {
   "cell_type": "code",
   "execution_count": null,
   "id": "4988e40d-5db9-4825-a6d7-d43ec9073082",
   "metadata": {},
   "outputs": [],
   "source": [
    "# Check AQE\n",
    "print(\"Adaptive Query Execution Enabled:\", spark.conf.get(\"spark.sql.adaptive.enabled\"))"
   ]
  }
 ],
 "metadata": {
  "kernelspec": {
   "display_name": "Python 3 (ipykernel)",
   "language": "python",
   "name": "python3"
  },
  "language_info": {
   "codemirror_mode": {
    "name": "ipython",
    "version": 3
   },
   "file_extension": ".py",
   "mimetype": "text/x-python",
   "name": "python",
   "nbconvert_exporter": "python",
   "pygments_lexer": "ipython3",
   "version": "3.10.11"
  }
 },
 "nbformat": 4,
 "nbformat_minor": 5
}
