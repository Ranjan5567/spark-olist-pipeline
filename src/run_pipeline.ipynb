{
 "cells": [
  {
   "cell_type": "code",
   "execution_count": 1,
   "id": "362009ea-5719-459d-af06-bb51df5c727c",
   "metadata": {},
   "outputs": [],
   "source": [
    "import os\n",
    "os.environ[\"PYSPARK_PYTHON\"] = r\"C:\\Users\\ranjan\\Desktop\\spark-olist-pipeline\\venv\\Scripts\\python.exe\"\n",
    "os.environ[\"PYSPARK_DRIVER_PYTHON\"] = r\"C:\\Users\\ranjan\\Desktop\\spark-olist-pipeline\\venv\\Scripts\\python.exe\"\n",
    "os.environ[\"spark.python.worker.reuse\"] = \"true\""
   ]
  },
  {
   "cell_type": "code",
   "execution_count": 2,
   "id": "7d5e2947-2b38-4208-8f02-a887a071cdd1",
   "metadata": {},
   "outputs": [],
   "source": [
    "import sys\n",
    "import time\n",
    "from pyspark.sql.functions import broadcast\n",
    "sys.path.append(os.path.abspath(\"../src\")) \n"
   ]
  },
  {
   "cell_type": "code",
   "execution_count": 3,
   "id": "8d1c16fd-02b4-40de-8523-e10f2f3293e8",
   "metadata": {},
   "outputs": [],
   "source": [
    "from bronze import create_spark_session, ingest_csv\n",
    "from silver import curate_sales\n",
    "from gold import create_daily_sales_state\n",
    "spark = create_spark_session(\"OlistPipeline\")"
   ]
  },
  {
   "cell_type": "code",
   "execution_count": 4,
   "id": "56822a80-2de1-4fc4-8063-7e84abe71f39",
   "metadata": {},
   "outputs": [
    {
     "name": "stdout",
     "output_type": "stream",
     "text": [
      "Adaptive Query Execution Enabled: true\n"
     ]
    }
   ],
   "source": [
    "# Check AQE\n",
    "print(\"Adaptive Query Execution Enabled:\", spark.conf.get(\"spark.sql.adaptive.enabled\"))"
   ]
  },
  {
   "cell_type": "code",
   "execution_count": 5,
   "id": "d6110909-cc86-499f-a051-78fd144d56f1",
   "metadata": {},
   "outputs": [],
   "source": [
    "# Define paths\n",
    "base_input = \"../data/\"\n",
    "bronze_output = \"../delta/bronze/\""
   ]
  },
  {
   "cell_type": "code",
   "execution_count": 6,
   "id": "30c7fb8c-cc50-4f9c-ab3e-492ec14bd956",
   "metadata": {},
   "outputs": [],
   "source": [
    "\n",
    "# Bronze ingestion for all Olist tables\n",
    "datasets = {\n",
    "    \"customers\": \"olist_customers_dataset.csv\",\n",
    "    \"orders\": \"olist_orders_dataset.csv\",\n",
    "    \"order_items\": \"olist_order_items_dataset.csv\",\n",
    "    \"order_payments\": \"olist_order_payments_dataset.csv\",\n",
    "    \"order_reviews\": \"olist_order_reviews_dataset.csv\",\n",
    "    \"products\": \"olist_products_dataset.csv\",\n",
    "    \"sellers\": \"olist_sellers_dataset.csv\",\n",
    "    \"geolocation\": \"olist_geolocation_dataset.csv\",\n",
    "    \"category_translation\": \"product_category_name_translation.csv\"\n",
    "}\n"
   ]
  },
  {
   "cell_type": "code",
   "execution_count": 7,
   "id": "9c559f99-b54b-4fad-99e8-8c589a2e0920",
   "metadata": {},
   "outputs": [
    {
     "name": "stdout",
     "output_type": "stream",
     "text": [
      "\n",
      "[INFO] Ingesting customers → ../delta/bronze/customers\n",
      "[INFO] Ingested ../data/olist_customers_dataset.csv → ../delta/bronze/customers\n",
      "[INFO] Files written under ../delta/bronze/customers:\n",
      "   part-00000-d12838bd-6ece-428b-a2d9-b0bf657bb83c-c000.snappy.parquet → 3.36 MB\n",
      "   part-00001-74bd0934-7728-4d9c-834f-279c7051601f-c000.snappy.parquet → 3.35 MB\n",
      "[INFO] Showing customers table (first 5 rows):\n",
      "+--------------------------------+--------------------------------+------------------------+--------------------+--------------+\n",
      "|customer_id                     |customer_unique_id              |customer_zip_code_prefix|customer_city       |customer_state|\n",
      "+--------------------------------+--------------------------------+------------------------+--------------------+--------------+\n",
      "|6ae91e04653dc3a0c205363ffff0081f|1dde89b524bd2ce5480df99d22539136|28911                   |cabo frio           |RJ            |\n",
      "|ff84d0fa669f79bdc394cadf5d651cf2|4fd1b2e7c09c60c05762f31151d464f8|13236                   |campo limpo paulista|SP            |\n",
      "|25936c2bf3471a32f522df4e5949e725|e49c82ca5e5ebe3153400c1adc06cc9a|99700                   |erechim             |RS            |\n",
      "|ec969a27db96260fb93c52ab2c073b5c|e75ef15643b054b600909c9eeb5a8fde|55292                   |garanhuns           |PE            |\n",
      "|3426e7a4ab70dfdf2fe8ae2060984be3|a784c03aa8b195a1b7bf3894516de858|30690                   |belo horizonte      |MG            |\n",
      "+--------------------------------+--------------------------------+------------------------+--------------------+--------------+\n",
      "only showing top 5 rows\n",
      "\n",
      "\n",
      "[INFO] Ingesting orders → ../delta/bronze/orders\n",
      "[INFO] Added derived partition column 'order_purchase_month'\n",
      "[INFO] Ingested ../data/olist_orders_dataset.csv → ../delta/bronze/orders\n",
      "[INFO] Files written under ../delta/bronze/orders:\n",
      "   part-00000-e9b76ead-cdee-4785-9139-df7a59b4ce9f.c000.snappy.parquet → 0.00 MB\n",
      "   part-00001-bdd75c91-b147-439a-a100-0bd25ba55030.c000.snappy.parquet → 0.00 MB\n",
      "   part-00000-7122e643-3cbf-477b-aba3-1ca48f00dea4.c000.snappy.parquet → 0.02 MB\n",
      "   part-00001-7573f44c-a9c5-49fe-a40b-831d28925bd0.c000.snappy.parquet → 0.02 MB\n",
      "   part-00000-72bf7fed-2b42-47e2-9826-a54afaec9acd.c000.snappy.parquet → 0.00 MB\n",
      "   part-00000-22fd1c03-2c3b-48e3-b8b9-661d6c5decf3.c000.snappy.parquet → 0.04 MB\n",
      "   part-00001-d7c85f87-f8c8-4cc9-bca4-37ae2cfa1480.c000.snappy.parquet → 0.04 MB\n",
      "   part-00000-53a71fe4-0ee2-400f-baa2-43da85cc7025.c000.snappy.parquet → 0.09 MB\n",
      "   part-00001-04d9d3b1-7c27-4aae-b087-5aec7b7a65f7.c000.snappy.parquet → 0.09 MB\n",
      "   part-00000-6edb83b4-d0f2-46bd-a08d-b02167d86763.c000.snappy.parquet → 0.14 MB\n",
      "   part-00001-1c30ec1f-7ff6-41d9-b9bc-d743462c0d2e.c000.snappy.parquet → 0.13 MB\n",
      "   part-00000-8a50f6d5-0918-462d-a20a-b77f6b9266fb.c000.snappy.parquet → 0.12 MB\n",
      "   part-00001-a405cf99-2eac-40ff-9cff-0e8c068b9225.c000.snappy.parquet → 0.12 MB\n",
      "   part-00000-80bc7b62-e7e5-4abe-8537-fc30ee56c33b.c000.snappy.parquet → 0.18 MB\n",
      "   part-00001-fb2e274c-ec91-4dec-8255-0c273f8f9085.c000.snappy.parquet → 0.18 MB\n",
      "   part-00000-6e58afff-f232-456d-8e1b-89ac34fe25ab.c000.snappy.parquet → 0.16 MB\n",
      "   part-00001-ae20c56c-69f6-4a68-bb91-0bc3842985ab.c000.snappy.parquet → 0.16 MB\n",
      "   part-00000-851d0f54-9ed0-4d96-9108-c08c28c8cbee.c000.snappy.parquet → 0.19 MB\n",
      "   part-00001-e1dc3141-f781-409f-b4d7-94f01a14a140.c000.snappy.parquet → 0.21 MB\n",
      "   part-00000-2feffd99-9f4c-41bf-93cc-0011eee30c85.c000.snappy.parquet → 0.22 MB\n",
      "   part-00001-58d4657c-15c4-4e89-97f0-f29939ee01af.c000.snappy.parquet → 0.21 MB\n",
      "   part-00000-9441f9a6-7a0c-4e8d-aad5-0afaf09d4331.c000.snappy.parquet → 0.21 MB\n",
      "   part-00001-ade2e20b-bb73-4006-af02-952808b4b498.c000.snappy.parquet → 0.21 MB\n",
      "   part-00000-92ce8af6-d93d-4d00-a24c-3676961af8bb.c000.snappy.parquet → 0.23 MB\n",
      "   part-00001-8875e05e-3161-490d-916b-1c324250ce89.c000.snappy.parquet → 0.24 MB\n",
      "   part-00000-5fa84057-222f-4aca-a7e6-9a6e068dfd57.c000.snappy.parquet → 0.37 MB\n",
      "   part-00001-09b04668-6f09-41af-bd8d-23b1df6f4470.c000.snappy.parquet → 0.38 MB\n",
      "   part-00000-1c8ed5bd-3fd0-4ab9-8d29-9e25d83363eb.c000.snappy.parquet → 0.29 MB\n",
      "   part-00001-d5184164-ba4c-44bc-8116-3ff8bddf411a.c000.snappy.parquet → 0.27 MB\n",
      "   part-00000-d67aba3d-8e30-4984-89d0-67e76eb8fc11.c000.snappy.parquet → 0.37 MB\n",
      "   part-00001-22513b1c-6fab-494f-8d29-3e44c9289664.c000.snappy.parquet → 0.35 MB\n",
      "   part-00000-2e800205-0e5c-4fef-b0c4-45ba9a1ea69c.c000.snappy.parquet → 0.34 MB\n",
      "   part-00001-aa6e75e1-8a95-489e-9d54-7a6d52611f15.c000.snappy.parquet → 0.33 MB\n",
      "   part-00000-79cd5373-f9df-4633-acb3-33d9ac2c841d.c000.snappy.parquet → 0.36 MB\n",
      "   part-00001-68aa5e44-20b0-4c87-befe-210d0f1fe44a.c000.snappy.parquet → 0.36 MB\n",
      "   part-00000-c99e01ad-0e73-423f-8ad5-e8430fac32cc.c000.snappy.parquet → 0.34 MB\n",
      "   part-00001-92c8f7af-9897-44ef-92e5-0c307409b440.c000.snappy.parquet → 0.34 MB\n",
      "   part-00000-77a3b23b-dc0e-4b85-8ec3-4f4714dbc8f4.c000.snappy.parquet → 0.32 MB\n",
      "   part-00001-80eccc31-150c-41ec-b4dc-a435f406c00a.c000.snappy.parquet → 0.33 MB\n",
      "   part-00000-eb890aa2-2e9f-4d52-9698-7d7e1c086440.c000.snappy.parquet → 0.30 MB\n",
      "   part-00001-2d4e3f36-84fb-4e9f-8586-ec4506a3efe4.c000.snappy.parquet → 0.30 MB\n",
      "   part-00000-63e38a28-c707-472d-a8e2-96e788d1ad9b.c000.snappy.parquet → 0.30 MB\n",
      "   part-00001-08b8839b-97c8-4bf4-9d3d-67d76097c622.c000.snappy.parquet → 0.30 MB\n",
      "   part-00000-094acd5f-90ed-419c-ab7d-1f14db59ff0b.c000.snappy.parquet → 0.31 MB\n",
      "   part-00001-3f263746-c1e7-49b4-abee-260496b283e0.c000.snappy.parquet → 0.31 MB\n",
      "   part-00000-119afbe2-7562-475f-88c6-f9e095e3d5f0.c000.snappy.parquet → 0.00 MB\n",
      "   part-00001-5fabd264-b90c-46b0-b1e5-8bd31248f076.c000.snappy.parquet → 0.00 MB\n",
      "   part-00000-035fb576-0942-4504-bad5-30b1df0daa92.c000.snappy.parquet → 0.00 MB\n",
      "   part-00001-c027458e-d417-46c3-89d1-116ccfc4c4cd.c000.snappy.parquet → 0.00 MB\n",
      "[INFO] Showing orders table (first 5 rows):\n",
      "+--------------------------------+--------------------------------+------------+------------------------+-------------------+----------------------------+-----------------------------+-----------------------------+--------------------+\n",
      "|order_id                        |customer_id                     |order_status|order_purchase_timestamp|order_approved_at  |order_delivered_carrier_date|order_delivered_customer_date|order_estimated_delivery_date|order_purchase_month|\n",
      "+--------------------------------+--------------------------------+------------+------------------------+-------------------+----------------------------+-----------------------------+-----------------------------+--------------------+\n",
      "|4ad67779ba72ded4178661f3872b91da|68a75be7ad2d974aa966c9b0a9ed89e5|delivered   |2017-06-07 13:47:35     |2017-06-09 02:35:20|2017-06-09 13:02:52         |2017-06-19 16:18:48          |2017-07-06 00:00:00          |2017-06             |\n",
      "|11644b89c9bd9d27b1c1fda5307844d1|947d490e87464fc7f56c57d24b98564e|delivered   |2017-06-08 16:15:15     |2017-06-08 22:31:35|2017-06-13 09:46:46         |2017-06-23 11:52:09          |2017-07-03 00:00:00          |2017-06             |\n",
      "|318b5b7c3a2a999cc4f3403e9afd3eb4|e9e9f929686355e47cb979fa510b9e94|delivered   |2017-06-10 09:26:58     |2017-06-13 05:05:26|2017-06-14 12:48:10         |2017-06-23 13:11:16          |2017-07-17 00:00:00          |2017-06             |\n",
      "|74131c82f1f2851457118d475695b53e|46f4551612ffa07681d156331f499870|delivered   |2017-06-19 17:58:40     |2017-06-20 10:45:10|2017-06-21 18:17:50         |2017-06-30 09:33:01          |2017-07-07 00:00:00          |2017-06             |\n",
      "|2da57b1db9c95f9cfdbc6947115a3ab9|bdd81a77446e0d4786b388ae8ccf3a3a|invoiced    |2017-06-08 18:24:28     |2017-06-08 19:03:29|NULL                        |NULL                         |2017-07-11 00:00:00          |2017-06             |\n",
      "+--------------------------------+--------------------------------+------------+------------------------+-------------------+----------------------------+-----------------------------+-----------------------------+--------------------+\n",
      "only showing top 5 rows\n",
      "\n",
      "\n",
      "[INFO] Ingesting order_items → ../delta/bronze/order_items\n",
      "[INFO] Ingested ../data/olist_order_items_dataset.csv → ../delta/bronze/order_items\n",
      "[INFO] Files written under ../delta/bronze/order_items:\n",
      "   part-00000-18608521-20b5-4767-aeab-ca022608f6e6-c000.snappy.parquet → 3.10 MB\n",
      "   part-00000-85046594-6528-44ad-b1bd-9d7a576bbafe-c001.snappy.parquet → 0.49 MB\n",
      "   part-00001-161318ae-b1f1-4d99-89a3-514aa8c5b942-c000.snappy.parquet → 3.09 MB\n",
      "   part-00001-9d6fb632-dc1f-43c0-8e23-05b8aed687a6-c001.snappy.parquet → 0.49 MB\n",
      "[INFO] Showing order_items table (first 5 rows):\n",
      "+--------------------------------+-------------+--------------------------------+--------------------------------+-------------------+-----+-------------+\n",
      "|order_id                        |order_item_id|product_id                      |seller_id                       |shipping_limit_date|price|freight_value|\n",
      "+--------------------------------+-------------+--------------------------------+--------------------------------+-------------------+-----+-------------+\n",
      "|b606a684f47f6156083911fb09287f91|1            |875e0d1c97176d76e9b04c98d06383d2|e8b4225284fbb02d16f200513f1f395d|2018-04-18 21:52:46|145.9|15.11        |\n",
      "|ec0eba3b4fbad8fda2b94df042100196|1            |be642ced82a99a398aa76d720cf47d19|7b07b3c7487f0ea825fc6df75abd658b|2017-11-30 13:31:02|57.8 |21.6         |\n",
      "|b6918562ae8b764ad6d0022da12051fb|2            |9d838a7fbaba7fca5f1fad259984063a|897060da8b9a21f655304d50fd935913|2018-03-26 16:29:31|59.0 |18.29        |\n",
      "|f1b19188d070474e6b24f5e12da6ef4c|1            |b76364870c38ddd7dcc9dd9ab5abeeb4|2a6fbeaa7ab9e5d59a35841a8da71ce4|2017-12-07 13:58:50|48.9 |17.6         |\n",
      "|aa8315492e537030e29f1bc252d26cb1|1            |7e0dc102074f8285580c9777f79c90cf|e26901d5ab434ce92fd9b5c256820a4e|2017-02-23 12:37:14|39.9 |10.96        |\n",
      "+--------------------------------+-------------+--------------------------------+--------------------------------+-------------------+-----+-------------+\n",
      "only showing top 5 rows\n",
      "\n",
      "\n",
      "[INFO] Ingesting order_payments → ../delta/bronze/order_payments\n",
      "[INFO] Ingested ../data/olist_order_payments_dataset.csv → ../delta/bronze/order_payments\n",
      "[INFO] Files written under ../delta/bronze/order_payments:\n",
      "   part-00000-58cc17f8-93ac-4b1f-a59c-29b21c6e8917-c000.snappy.parquet → 1.79 MB\n",
      "   part-00000-a7c4db59-25d8-4907-b606-182bd8722baa-c001.snappy.parquet → 0.07 MB\n",
      "   part-00001-0bac86d3-dc8d-42b6-a8c4-24c493a1d536-c001.snappy.parquet → 0.07 MB\n",
      "   part-00001-15a77cdb-6a7d-45e5-b7c5-b20d09561dae-c000.snappy.parquet → 1.79 MB\n",
      "[INFO] Showing order_payments table (first 5 rows):\n",
      "+--------------------------------+------------------+------------+--------------------+-------------+\n",
      "|order_id                        |payment_sequential|payment_type|payment_installments|payment_value|\n",
      "+--------------------------------+------------------+------------+--------------------+-------------+\n",
      "|4809d5e024b9394e928ca1329ce177ea|1                 |debit_card  |1                   |71.75        |\n",
      "|01b37f50cf3098b3dd9d0450a188348c|1                 |boleto      |1                   |87.18        |\n",
      "|4c8f74d2fa5a183591988e2c68c931e0|1                 |credit_card |1                   |20.99        |\n",
      "|4237d03d511e94c1d2504e01a20cd668|1                 |credit_card |6                   |163.45       |\n",
      "|1774ba82c4fe803da714e3f5c48cbcdc|1                 |credit_card |10                  |193.69       |\n",
      "+--------------------------------+------------------+------------+--------------------+-------------+\n",
      "only showing top 5 rows\n",
      "\n",
      "\n",
      "[INFO] Ingesting order_reviews → ../delta/bronze/order_reviews\n",
      "[INFO] Ingested ../data/olist_order_reviews_dataset.csv → ../delta/bronze/order_reviews\n",
      "[INFO] Files written under ../delta/bronze/order_reviews:\n",
      "   part-00000-69a4518d-141c-425d-b365-c4c108d9e8f0-c000.snappy.parquet → 4.44 MB\n",
      "   part-00000-fd730cfa-125e-4885-bd69-af82a3ae4e68-c001.snappy.parquet → 0.19 MB\n",
      "   part-00001-54f10375-3f7a-4a31-b2e8-2000605cafad-c001.snappy.parquet → 0.19 MB\n",
      "   part-00001-7406092b-074e-4571-8bf3-8bf3cb907bad-c000.snappy.parquet → 4.44 MB\n",
      "[INFO] Showing order_reviews table (first 5 rows):\n",
      "+--------------------------------+--------------------------------+------------+--------------------+----------------------------------------------------------------------------------------------------------------------------------------------------------------+--------------------+-----------------------+\n",
      "|review_id                       |order_id                        |review_score|review_comment_title|review_comment_message                                                                                                                                          |review_creation_date|review_answer_timestamp|\n",
      "+--------------------------------+--------------------------------+------------+--------------------+----------------------------------------------------------------------------------------------------------------------------------------------------------------+--------------------+-----------------------+\n",
      "|1e644a660c6ebedd1432517632e1c005|8881dc280b8de23e6913aaee6bf61bb5|5           |ótimo               |Produto de excelente fabricação.                                                                                                                                |2018-06-16 00:00:00 |2018-06-18 11:37:37    |\n",
      "|47ff18d217d86cd7a9ddef80e7e090e4|fcc1d095fad4806c94b96c7bbe51188d|1           |Quantidade errada   |Comprei 10 e recebi somente 5.                                                                                                                                  |2018-08-10 00:00:00 |2018-08-17 20:09:34    |\n",
      "|b1eff16379510a352380e141d6d6fa93|fbe768ef510412dd02e7f6a28504ec7f|5           |NULL                |Empresa 100% Confiável. Agilidade na entrega ,e produto de alta qualidade, minha Esposa amou conj.Ap de Jantar porcelanato 20pcs Casambient. Parabéns targaryen |2017-12-30 00:00:00 |2017-12-30 19:46:38    |\n",
      "|7de18fb0f2eb445ec72afff2adf527af|f9e91772b7c00e703b2ef5657ec53ee1|5           |NULL                |NULL                                                                                                                                                            |2018-05-25 00:00:00 |2018-05-28 12:27:47    |\n",
      "|96b0aa5ecc991cc60c5ede5aab485e44|729bf6aed8c44bca10dba0fc98328fd0|4           |NULL                |NULL                                                                                                                                                            |2018-02-20 00:00:00 |2018-02-21 15:23:00    |\n",
      "+--------------------------------+--------------------------------+------------+--------------------+----------------------------------------------------------------------------------------------------------------------------------------------------------------+--------------------+-----------------------+\n",
      "only showing top 5 rows\n",
      "\n",
      "\n",
      "[INFO] Ingesting products → ../delta/bronze/products\n",
      "[INFO] Ingested ../data/olist_products_dataset.csv → ../delta/bronze/products\n",
      "[INFO] Files written under ../delta/bronze/products:\n",
      "   part-00000-6ed1ebd0-b847-4faf-8a23-39bd3da13a88-c000.snappy.parquet → 0.66 MB\n",
      "   part-00001-562b8c6c-939e-4597-bf9b-551bd02ead4b-c000.snappy.parquet → 0.66 MB\n",
      "[INFO] Showing products table (first 5 rows):\n",
      "+--------------------------------+-------------------------+-------------------+--------------------------+------------------+----------------+-----------------+-----------------+----------------+\n",
      "|product_id                      |product_category_name    |product_name_lenght|product_description_lenght|product_photos_qty|product_weight_g|product_length_cm|product_height_cm|product_width_cm|\n",
      "+--------------------------------+-------------------------+-------------------+--------------------------+------------------+----------------+-----------------+-----------------+----------------+\n",
      "|aa5a3fa92cb1221a38267376d25cfd8a|cama_mesa_banho          |52                 |276                       |1                 |1150            |41               |13               |13              |\n",
      "|c7bd850b9a356ee44d5a2a55f7a5b657|esporte_lazer            |63                 |1562                      |10                |1150            |20               |16               |20              |\n",
      "|1953c4e517bc25739bc4223ede2ff5bc|relogios_presentes       |53                 |2390                      |1                 |800             |25               |14               |16              |\n",
      "|24fee4a800146a47846fa0e345b6d6ed|agro_industria_e_comercio|22                 |353                       |1                 |800             |20               |20               |20              |\n",
      "|269616df4c79febdae020f2d978594ed|climatizacao             |60                 |595                       |4                 |2400            |16               |40               |15              |\n",
      "+--------------------------------+-------------------------+-------------------+--------------------------+------------------+----------------+-----------------+-----------------+----------------+\n",
      "only showing top 5 rows\n",
      "\n",
      "\n",
      "[INFO] Ingesting sellers → ../delta/bronze/sellers\n",
      "[INFO] Ingested ../data/olist_sellers_dataset.csv → ../delta/bronze/sellers\n",
      "[INFO] Files written under ../delta/bronze/sellers:\n",
      "   part-00000-0071ff1e-d134-4358-b8ba-730f6b30e265-c000.snappy.parquet → 0.06 MB\n",
      "   part-00001-c536b4da-de58-49c0-8cf5-07ec62e41a33-c000.snappy.parquet → 0.06 MB\n",
      "[INFO] Showing sellers table (first 5 rows):\n",
      "+--------------------------------+----------------------+--------------+------------+\n",
      "|seller_id                       |seller_zip_code_prefix|seller_city   |seller_state|\n",
      "+--------------------------------+----------------------+--------------+------------+\n",
      "|918f6fbcf3ab724d805867303e593a1b|13273                 |valinhos      |SP          |\n",
      "|1588ac4010787100dddef64568f0ae35|87045                 |maringa       |PR          |\n",
      "|06579cb253ecd5a3a12a9e6eb6bf8f47|4007                  |sao paulo - sp|SP          |\n",
      "|07bf9669d84d1f11be443a9dd938f698|4761                  |sao paulo     |SP          |\n",
      "|f1c1ac3f3efc07e659c035008e615e66|2119                  |sao paulo     |SP          |\n",
      "+--------------------------------+----------------------+--------------+------------+\n",
      "only showing top 5 rows\n",
      "\n",
      "\n",
      "[INFO] Ingesting geolocation → ../delta/bronze/geolocation\n",
      "[INFO] Ingested ../data/olist_geolocation_dataset.csv → ../delta/bronze/geolocation\n",
      "[INFO] Files written under ../delta/bronze/geolocation:\n",
      "   part-00000-a2f2a7cf-28ad-4b7f-bf26-fb149d85d27b-c001.snappy.parquet → 0.00 MB\n",
      "   part-00000-c1c62d9e-1e22-4960-844f-2174d4937bb1-c000.snappy.parquet → 1.01 MB\n",
      "   part-00001-6abc926b-1a34-481e-99ae-64e67ddf5c84-c000.snappy.parquet → 1.01 MB\n",
      "   part-00001-d19e8a6a-93b4-4718-8341-3448a055fba3-c001.snappy.parquet → 0.00 MB\n",
      "   part-00002-46b2535a-02fd-43ac-833e-e665b9346826-c000.snappy.parquet → 1.02 MB\n",
      "   part-00002-8dddda2c-e2f9-47e4-8d32-ad3659e94482-c001.snappy.parquet → 0.00 MB\n",
      "   part-00003-44bb09a5-df93-4ad0-b3c3-7ab4e75031e0-c001.snappy.parquet → 0.00 MB\n",
      "   part-00003-8e1f86cd-2887-449d-9b3e-583fb8d9cf31-c000.snappy.parquet → 1.01 MB\n",
      "   part-00004-2cd700bf-f1c1-4316-99b1-00681a7ed33b-c001.snappy.parquet → 0.00 MB\n",
      "   part-00004-8868912e-52fe-4d06-96a5-cd2e073c2c03-c000.snappy.parquet → 1.01 MB\n",
      "   part-00005-2cd0a643-b2e6-46b0-891d-3d949d4ab8a1-c000.snappy.parquet → 1.02 MB\n",
      "   part-00005-c52f3053-efc1-4beb-b927-0b2d06a3a456-c001.snappy.parquet → 0.00 MB\n",
      "   part-00006-17627c85-a132-49ea-9ce5-e3db435c51fa-c001.snappy.parquet → 0.00 MB\n",
      "   part-00006-990ec824-1015-44d7-bd0c-5ce2792e4b5c-c000.snappy.parquet → 1.02 MB\n",
      "   part-00007-63a83b4f-6f51-410e-b2b5-56c1b8558d97-c000.snappy.parquet → 1.02 MB\n",
      "   part-00007-c2404ac2-31c9-46e4-aae7-237f940ec9ea-c001.snappy.parquet → 0.00 MB\n",
      "   part-00008-65be654a-bb25-4431-a869-9eec8fe8587a-c001.snappy.parquet → 0.00 MB\n",
      "   part-00008-f56b26a3-0f8d-46a0-b112-16beca91994e-c000.snappy.parquet → 1.02 MB\n",
      "   part-00009-0a1bf3bd-9128-4345-af78-293dd7e28441-c000.snappy.parquet → 1.02 MB\n",
      "   part-00009-bd3cc0b2-78fa-4d12-9725-a9d8fcef1a07-c001.snappy.parquet → 0.00 MB\n",
      "   part-00010-1180b809-68c6-4424-a0c9-1e6d03bcb9fb-c000.snappy.parquet → 1.02 MB\n",
      "   part-00010-9d764a77-c425-40e7-bdbb-afc868ed57d0-c001.snappy.parquet → 0.00 MB\n",
      "   part-00011-4491633f-65ee-4e8b-87cb-4cd56e190385-c001.snappy.parquet → 0.00 MB\n",
      "   part-00011-5a8ae132-cd00-4a1a-b258-2ae41597e975-c000.snappy.parquet → 1.02 MB\n",
      "   part-00012-148cd480-dc58-4f6b-936b-dbdaffc42ec8-c000.snappy.parquet → 1.01 MB\n",
      "   part-00012-d84579a7-3957-4799-8744-676fabd20df5-c001.snappy.parquet → 0.00 MB\n",
      "   part-00013-efbc4561-afb5-481e-81e3-9f94998ec437-c000.snappy.parquet → 1.02 MB\n",
      "   part-00013-f60077b3-f3c8-4eac-a04b-7db047922b62-c001.snappy.parquet → 0.00 MB\n",
      "   part-00014-162adb5a-205a-4c04-b50f-53446a4df578-c001.snappy.parquet → 0.00 MB\n",
      "   part-00014-1a627b03-b2fa-479b-9adf-c034ee5e9160-c000.snappy.parquet → 1.01 MB\n",
      "   part-00015-08ada8db-27d1-457e-9533-2ef441ab3c30-c001.snappy.parquet → 0.00 MB\n",
      "   part-00015-3c4ad208-202e-43e0-8ac6-f8c49c5bc15d-c000.snappy.parquet → 1.01 MB\n",
      "   part-00016-0026bdba-9f75-4981-8df9-cf86695b2b60-c000.snappy.parquet → 1.02 MB\n",
      "   part-00016-d243a70f-e487-4912-91ec-752cda8f8c99-c001.snappy.parquet → 0.00 MB\n",
      "   part-00017-8942e86c-1a8c-4ae3-958f-a661d277d066-c000.snappy.parquet → 1.02 MB\n",
      "   part-00017-99f36cdf-a9ce-40d3-8fab-a800e010d9fd-c001.snappy.parquet → 0.00 MB\n",
      "   part-00018-0c5ecb5b-bc1c-40ce-887d-e88e03606db9-c000.snappy.parquet → 1.01 MB\n",
      "   part-00018-5bc262a3-aee6-48a5-85dc-f1be14590a75-c001.snappy.parquet → 0.00 MB\n",
      "   part-00019-b0d79e1e-4aa9-4c1e-8c36-4dca32ecdf8c-c001.snappy.parquet → 0.00 MB\n",
      "   part-00019-bc566abc-a2db-4169-8b1c-fd33b62e02b2-c000.snappy.parquet → 1.02 MB\n",
      "[INFO] Showing geolocation table (first 5 rows):\n",
      "+---------------------------+-------------------+-------------------+------------------+-----------------+\n",
      "|geolocation_zip_code_prefix|geolocation_lat    |geolocation_lng    |geolocation_city  |geolocation_state|\n",
      "+---------------------------+-------------------+-------------------+------------------+-----------------+\n",
      "|88330                      |-27.003944999999945|-48.621013999999974|balneario camboriu|SC               |\n",
      "|76970                      |-11.68108728314645 |-61.17590537056663 |pimenta bueno     |RO               |\n",
      "|97501                      |-29.75988059970312 |-57.098742723651746|uruguaiana        |RS               |\n",
      "|85884                      |-25.276643391546028|-54.07998095053973 |medianeira        |PR               |\n",
      "|86070                      |-23.294192877055742|-51.178075170292445|londrina          |PR               |\n",
      "+---------------------------+-------------------+-------------------+------------------+-----------------+\n",
      "only showing top 5 rows\n",
      "\n",
      "\n",
      "[INFO] Ingesting category_translation → ../delta/bronze/category_translation\n",
      "[INFO] Ingested ../data/product_category_name_translation.csv → ../delta/bronze/category_translation\n",
      "[INFO] Files written under ../delta/bronze/category_translation:\n",
      "   part-00000-e4ce7c52-17cd-4e61-b527-23abe2cd32fe-c000.snappy.parquet → 0.00 MB\n",
      "   part-00001-ffb1d627-a68c-468c-81b1-3df755f315a1-c000.snappy.parquet → 0.00 MB\n",
      "[INFO] Showing category_translation table (first 5 rows):\n",
      "+-----------------------+-----------------------------+\n",
      "|product_category_name  |product_category_name_english|\n",
      "+-----------------------+-----------------------------+\n",
      "|esporte_lazer          |sports_leisure               |\n",
      "|seguros_e_servicos     |security_and_services        |\n",
      "|livros_interesse_geral |books_general_interest       |\n",
      "|sinalizacao_e_seguranca|signaling_and_security       |\n",
      "|ferramentas_jardim     |garden_tools                 |\n",
      "+-----------------------+-----------------------------+\n",
      "only showing top 5 rows\n",
      "\n"
     ]
    }
   ],
   "source": [
    "for name, filename in datasets.items():\n",
    "    input_path = f\"{base_input}{filename}\"\n",
    "    output_path = f\"{bronze_output}{name}\"\n",
    "\n",
    "    print(f\"\\n[INFO] Ingesting {name} → {output_path}\")\n",
    "    \n",
    "    if name == \"orders\":  # partition only orders\n",
    "        ingest_csv(spark, input_path, output_path, partition_col=\"order_purchase_month\", target_file_rows=50000)\n",
    "    else:\n",
    "        ingest_csv(spark, input_path, output_path, target_file_rows=50000)\n",
    "\n",
    "    # Read back from Delta & show\n",
    "    df = spark.read.format(\"delta\").load(output_path)\n",
    "    print(f\"[INFO] Showing {name} table (first 5 rows):\")\n",
    "    df.show(5, truncate=False)\n"
   ]
  },
  {
   "cell_type": "code",
   "execution_count": 8,
   "id": "e221fa00-832e-4f7c-afcf-7051b21d0c58",
   "metadata": {},
   "outputs": [
    {
     "name": "stdout",
     "output_type": "stream",
     "text": [
      "Bronze layer  ingestion completed successfully!\n"
     ]
    }
   ],
   "source": [
    "print(\"Bronze layer  ingestion completed successfully!\")"
   ]
  },
  {
   "cell_type": "code",
   "execution_count": 9,
   "id": "77b6a1a4-c857-4234-934b-d3fb38f4476e",
   "metadata": {},
   "outputs": [],
   "source": [
    "silver_output = \"../delta/silver/\"\n"
   ]
  },
  {
   "cell_type": "code",
   "execution_count": 10,
   "id": "6c41411f-82ae-4337-bda3-3f21d49d2393",
   "metadata": {},
   "outputs": [
    {
     "name": "stdout",
     "output_type": "stream",
     "text": [
      " Silver layer sales curated and saved at ../delta/silver//sales\n"
     ]
    }
   ],
   "source": [
    "# Curate Silver Layer\n",
    "curate_sales(spark, bronze_base=bronze_output, silver_base=silver_output)"
   ]
  },
  {
   "cell_type": "code",
   "execution_count": 11,
   "id": "a1fcc05f-faca-4d69-a8a4-5920398924ee",
   "metadata": {},
   "outputs": [
    {
     "name": "stdout",
     "output_type": "stream",
     "text": [
      "\n",
      "[INFO] Silver Layer Sales Table:\n",
      "+--------------------------------+--------------------------------+--------------------------------+--------------------------------+------------+------------------------+-------------------+----------------------------+-----------------------------+-----------------------------+--------------------+-------------+-------------------+-----+-------------+-----------+------------------+------------+--------------------+-------------+--------------------------------+------------------------+-------------------+--------------+----------------------+--------------+------------+----------------------+-------------------+--------------------------+------------------+----------------+-----------------+-----------------+----------------+-----------------------------+\n",
      "|product_id                      |seller_id                       |customer_id                     |order_id                        |order_status|order_purchase_timestamp|order_approved_at  |order_delivered_carrier_date|order_delivered_customer_date|order_estimated_delivery_date|order_purchase_month|order_item_id|shipping_limit_date|price|freight_value|seller_salt|payment_sequential|payment_type|payment_installments|payment_value|customer_unique_id              |customer_zip_code_prefix|customer_city      |customer_state|seller_zip_code_prefix|seller_city   |seller_state|product_category_name |product_name_lenght|product_description_lenght|product_photos_qty|product_weight_g|product_length_cm|product_height_cm|product_width_cm|product_category_name_english|\n",
      "+--------------------------------+--------------------------------+--------------------------------+--------------------------------+------------+------------------------+-------------------+----------------------------+-----------------------------+-----------------------------+--------------------+-------------+-------------------+-----+-------------+-----------+------------------+------------+--------------------+-------------+--------------------------------+------------------------+-------------------+--------------+----------------------+--------------+------------+----------------------+-------------------+--------------------------+------------------+----------------+-----------------+-----------------+----------------+-----------------------------+\n",
      "|49d89239eb92d383e390b38b9bb792c6|3d621842b2ed28e2b474132480edac3c|28c1154b280de237fd5050b71fb67c0b|a077228a07e8b9b735ffd87f50d423e1|delivered   |2017-11-24 11:11:43     |2017-11-24 13:14:53|2017-11-30 16:47:45         |2017-12-01 21:43:10          |2017-12-08 00:00:00          |2017-11             |1            |2017-11-30 13:14:53|14.99|7.78         |2          |1                 |credit_card |2                   |22.77        |7b254c5fd79d511ce28932ebc1e6c257|12233                   |sao jose dos campos|sp            |8041                  |sao paulo     |sp          |automotivo            |59                 |580                       |2                 |200             |16               |5                |20              |auto                         |\n",
      "|8d8109048bbf6f0369b1522029f92a19|85d9eb9ddc5d00ca9336a2219c97bb13|a5d0358e802c2b80011410b0adbcf151|907876f99f250a7fca414743262371ea|delivered   |2017-11-29 03:36:56     |2017-11-29 03:53:37|2017-12-13 19:35:09         |2017-12-22 11:19:03          |2018-01-02 00:00:00          |2017-11             |1            |2017-12-13 03:53:37|48.9 |15.1         |2          |1                 |credit_card |1                   |64.0         |04485a4fd9d7e6d4360d6eed4096e7cd|12511                   |guaratingueta      |sp            |31255                 |belo horizonte|mg          |cool_stuff            |49                 |933                       |1                 |250             |22               |23               |16              |cool_stuff                   |\n",
      "|64d33e6bd1b905a31c2f96f584e6a0c8|ea8482cd71df3c1969d7b9473ff13abc|4d66c13cf85177ea674fb2d878c61d96|7e4c1200b2e12309b1fadca938e61c4a|delivered   |2017-11-24 21:58:42     |2017-11-25 00:37:57|2017-11-29 11:18:46         |2017-12-20 23:17:13          |2017-12-15 00:00:00          |2017-11             |1            |2017-11-30 00:37:57|27.99|15.1         |0          |1                 |credit_card |4                   |43.09        |84fd1abb7563bfed9debb07a6e28fbeb|27253                   |volta redonda      |rj            |4160                  |sao paulo     |sp          |telefonia             |60                 |818                       |6                 |350             |17               |4                |12              |telephony                    |\n",
      "|64d33e6bd1b905a31c2f96f584e6a0c8|ea8482cd71df3c1969d7b9473ff13abc|4239e5e2e73c44d3112fc1f8216197d0|c935e68603928d994d8a444c00f49bdd|delivered   |2017-11-28 04:24:53     |2017-11-28 05:07:23|2017-11-30 16:38:52         |2017-12-01 22:33:59          |2017-12-12 00:00:00          |2017-11             |1            |2017-12-04 05:07:23|27.99|7.78         |0          |1                 |credit_card |1                   |35.77        |1fbe6503f9ad5cf195896ff8f6b9002b|13275                   |valinhos           |sp            |4160                  |sao paulo     |sp          |telefonia             |60                 |818                       |6                 |350             |17               |4                |12              |telephony                    |\n",
      "|84a517a0e06ef2a45abff3cab3f0ad0e|897060da8b9a21f655304d50fd935913|7f6e0647dfddaccdf6e140f98e0945bd|66e7b21711a5ac0d6b6a5f60e4c79a75|delivered   |2017-11-28 14:31:04     |2017-11-29 02:20:34|2017-11-30 19:21:27         |2018-01-03 13:13:00          |2017-12-21 00:00:00          |2017-11             |1            |2017-12-07 02:20:34|83.23|15.33        |0          |1                 |boleto      |1                   |98.56        |157a6a3e29ea1833d3630f3962ac903a|23530                   |rio de janeiro     |rj            |14092                 |ribeirao preto|sp          |informatica_acessorios|46                 |643                       |2                 |225             |16               |15               |13              |computers_accessories        |\n",
      "+--------------------------------+--------------------------------+--------------------------------+--------------------------------+------------+------------------------+-------------------+----------------------------+-----------------------------+-----------------------------+--------------------+-------------+-------------------+-----+-------------+-----------+------------------+------------+--------------------+-------------+--------------------------------+------------------------+-------------------+--------------+----------------------+--------------+------------+----------------------+-------------------+--------------------------+------------------+----------------+-----------------+-----------------+----------------+-----------------------------+\n",
      "only showing top 5 rows\n",
      "\n"
     ]
    }
   ],
   "source": [
    "# Verify Silver\n",
    "print(\"\\n[INFO] Silver Layer Sales Table:\")\n",
    "sales_df = spark.read.format(\"delta\").load(f\"{silver_output}/sales\")\n",
    "sales_df.show(5, truncate=False)"
   ]
  },
  {
   "cell_type": "code",
   "execution_count": 12,
   "id": "dc528c09-779c-4930-9f8c-46b0a3b3fd2b",
   "metadata": {},
   "outputs": [
    {
     "name": "stdout",
     "output_type": "stream",
     "text": [
      "+--------------------+-----------+\n",
      "|           seller_id|seller_salt|\n",
      "+--------------------+-----------+\n",
      "|0ea22c1cfbdc755f8...|          2|\n",
      "|b0b346d3a89f5eb4c...|          0|\n",
      "|41b39e28db005d973...|          1|\n",
      "|0b90b6df587eb8360...|          4|\n",
      "|a5ff20ff766e7f50b...|          0|\n",
      "|1430239a858e7682b...|          2|\n",
      "|de722cd6dad950a92...|          1|\n",
      "|1f9ab4708f3056ede...|          2|\n",
      "|7142540dd4c91e223...|          1|\n",
      "|0747d5bb69f0586cc...|          0|\n",
      "+--------------------+-----------+\n",
      "only showing top 10 rows\n",
      "\n"
     ]
    }
   ],
   "source": [
    "sales_df.select(\"seller_id\", \"seller_salt\").distinct().show(10)"
   ]
  },
  {
   "cell_type": "code",
   "execution_count": 13,
   "id": "93389931-c19e-4cae-97d2-f4b87529625e",
   "metadata": {},
   "outputs": [
    {
     "name": "stdout",
     "output_type": "stream",
     "text": [
      "Customer city samples: ['igrejinha', 'aguas de sao pedro', 'camacari', 'arapiraca', 'pote']\n",
      "Customer state samples: ['pi', 'pr', 'rj', 'pb', 'ro']\n",
      "Seller city samples: ['igrejinha', 'brusque', 'buritama', 'sao joao de meriti', 'garca']\n",
      "Seller state samples: ['pi', 'pr', 'rj', 'pb', 'ro']\n"
     ]
    }
   ],
   "source": [
    "# Unique city/state samples for customers & sellers\n",
    "silver_path = \"../delta/silver/\"\n",
    "customers_df = spark.read.format(\"delta\").load(silver_path + \"customers\")\n",
    "sellers_df = spark.read.format(\"delta\").load(silver_path + \"sellers\")\n",
    "\n",
    "print(\"Customer city samples:\", [row.customer_city for row in customers_df.select(\"customer_city\").distinct().limit(5).collect()])\n",
    "print(\"Customer state samples:\", [row.customer_state for row in customers_df.select(\"customer_state\").distinct().limit(5).collect()])\n",
    "\n",
    "print(\"Seller city samples:\", [row.seller_city for row in sellers_df.select(\"seller_city\").distinct().limit(5).collect()])\n",
    "print(\"Seller state samples:\", [row.seller_state for row in sellers_df.select(\"seller_state\").distinct().limit(5).collect()])"
   ]
  },
  {
   "cell_type": "code",
   "execution_count": 14,
   "id": "e182f338-b320-46f5-ace3-fee2aead8eff",
   "metadata": {},
   "outputs": [
    {
     "name": "stdout",
     "output_type": "stream",
     "text": [
      "Duplicate customers: 0\n",
      "Duplicate sellers: 0\n"
     ]
    }
   ],
   "source": [
    "print(\"Duplicate customers:\", customers_df.count() - customers_df.dropDuplicates([\"customer_id\"]).count())\n",
    "print(\"Duplicate sellers:\", sellers_df.count() - sellers_df.dropDuplicates([\"seller_id\"]).count())"
   ]
  },
  {
   "cell_type": "code",
   "execution_count": 15,
   "id": "88442390-509d-4db9-a7ec-b51db6516130",
   "metadata": {},
   "outputs": [
    {
     "name": "stdout",
     "output_type": "stream",
     "text": [
      "Sample seller_id_salted:\n",
      "+-----------+\n",
      "|seller_salt|\n",
      "+-----------+\n",
      "|1          |\n",
      "|3          |\n",
      "|4          |\n",
      "|2          |\n",
      "|0          |\n",
      "+-----------+\n",
      "\n"
     ]
    }
   ],
   "source": [
    "sales_df = spark.read.format(\"delta\").load(silver_path + \"sales\")\n",
    "\n",
    "print(\"Sample seller_id_salted:\")\n",
    "sales_df.select(\"seller_salt\").distinct().show(10, truncate=False)"
   ]
  },
  {
   "cell_type": "code",
   "execution_count": 16,
   "id": "3b5d83fe-4470-44d8-842a-bf07081f53d1",
   "metadata": {},
   "outputs": [],
   "source": [
    "gold_base = \"../delta/gold/\""
   ]
  },
  {
   "cell_type": "code",
   "execution_count": 17,
   "id": "8beff8f3-41d5-436d-801f-a2274cce8ab0",
   "metadata": {},
   "outputs": [
    {
     "name": "stdout",
     "output_type": "stream",
     "text": [
      "Gold table created at ../delta/gold//daily_sales_state (customer + seller state revenue)\n"
     ]
    }
   ],
   "source": [
    "# Run Gold marts\n",
    "create_daily_sales_state(spark, silver_path, gold_base)"
   ]
  },
  {
   "cell_type": "code",
   "execution_count": 18,
   "id": "7153dde0-b66a-4bd4-80b9-8b21d9c082a2",
   "metadata": {},
   "outputs": [
    {
     "name": "stdout",
     "output_type": "stream",
     "text": [
      "Sample Gold table:\n",
      "+----------+--------------+------------+-----------------+\n",
      "|order_date|customer_state|seller_state|daily_revenue    |\n",
      "+----------+--------------+------------+-----------------+\n",
      "|2017-01-23|go            |pr          |374.28           |\n",
      "|2017-01-23|mg            |mg          |146.93           |\n",
      "|2017-01-23|mg            |sp          |1151.58          |\n",
      "|2017-01-23|mt            |sp          |343.88           |\n",
      "|2017-01-23|pa            |mg          |89.47999999999999|\n",
      "+----------+--------------+------------+-----------------+\n",
      "only showing top 5 rows\n",
      "\n"
     ]
    }
   ],
   "source": [
    "# Verify Gold table\n",
    "df_gold = spark.read.format(\"delta\").load(f\"{gold_base}/daily_sales_state\")\n",
    "print(\"Sample Gold table:\")\n",
    "df_gold.show(5, truncate=False)\n"
   ]
  },
  {
   "cell_type": "code",
   "execution_count": 19,
   "id": "b86aeae2-9e4c-41b3-87a4-053ecbf7f832",
   "metadata": {},
   "outputs": [],
   "source": [
    "# Load sales table\n",
    "sales = spark.read.format(\"delta\").load(f\"{silver_path}/sales\")"
   ]
  },
  {
   "cell_type": "code",
   "execution_count": 20,
   "id": "095c03c0-6196-46f4-abb1-a035364d6586",
   "metadata": {},
   "outputs": [
    {
     "name": "stdout",
     "output_type": "stream",
     "text": [
      "+--------------+------------------+\n",
      "|customer_state|        sum(price)|\n",
      "+--------------+------------------+\n",
      "|            pi| 90156.87999999996|\n",
      "|            pr| 685703.6699999984|\n",
      "|            rj|1849589.9499999874|\n",
      "|            pb|120634.06000000007|\n",
      "|            ro| 45176.64999999999|\n",
      "|            ba| 526261.0800000001|\n",
      "|          NULL|439617.68000000075|\n",
      "|            ms|116679.15999999999|\n",
      "|            mg|1592170.1999999825|\n",
      "|            go| 301968.0600000005|\n",
      "|            sc| 516302.6900000002|\n",
      "|            es|273704.54000000056|\n",
      "|            rs| 759279.2699999973|\n",
      "|            rn| 92823.27000000002|\n",
      "|            pe| 263488.0700000005|\n",
      "|            ce|235778.63000000032|\n",
      "|            ap|           13454.3|\n",
      "|            sp|  5270066.25000016|\n",
      "|            al| 80083.78999999996|\n",
      "|            ac|          16146.34|\n",
      "+--------------+------------------+\n",
      "only showing top 20 rows\n",
      "\n",
      "AQE OFF runtime: 3.533615827560425\n",
      "+--------------+------------------+\n",
      "|customer_state|        sum(price)|\n",
      "+--------------+------------------+\n",
      "|            pi| 90156.87999999996|\n",
      "|            pr| 685703.6699999984|\n",
      "|            rj|1849589.9499999874|\n",
      "|            pb|120634.06000000007|\n",
      "|            ro| 45176.64999999999|\n",
      "|            ba| 526261.0800000001|\n",
      "|          NULL|439617.68000000075|\n",
      "|            ms|116679.15999999999|\n",
      "|            mg|1592170.1999999825|\n",
      "|            go| 301968.0600000005|\n",
      "|            sc| 516302.6900000002|\n",
      "|            es|273704.54000000056|\n",
      "|            rs| 759279.2699999973|\n",
      "|            rn| 92823.27000000002|\n",
      "|            pe| 263488.0700000005|\n",
      "|            ce|235778.63000000032|\n",
      "|            ap|           13454.3|\n",
      "|            sp|  5270066.25000016|\n",
      "|            al| 80083.78999999996|\n",
      "|            ac|          16146.34|\n",
      "+--------------+------------------+\n",
      "only showing top 20 rows\n",
      "\n",
      "AQE ON runtime: 1.294126272201538\n"
     ]
    }
   ],
   "source": [
    "import time\n",
    "# AQE OFF\n",
    "spark.conf.set(\"spark.sql.adaptive.enabled\", \"false\")\n",
    "start = time.time()\n",
    "sales.groupBy(\"customer_state\").sum(\"price\").show()\n",
    "print(\"AQE OFF runtime:\", time.time() - start)\n",
    "\n",
    "# AQE ON\n",
    "spark.conf.set(\"spark.sql.adaptive.enabled\", \"true\")\n",
    "start = time.time()\n",
    "sales.groupBy(\"customer_state\").sum(\"price\").show()\n",
    "print(\"AQE ON runtime:\", time.time() - start)"
   ]
  },
  {
   "cell_type": "code",
   "execution_count": 22,
   "id": "f3637bc6-92fd-41a0-91bf-d49ef42eb1a5",
   "metadata": {},
   "outputs": [
    {
     "name": "stdout",
     "output_type": "stream",
     "text": [
      "Shuffle Join took: 1.79 seconds\n"
     ]
    }
   ],
   "source": [
    "# Shuffle Join \n",
    "start_time = time.time()\n",
    "df1 = sales.join(customers_df, \"customer_id\")\n",
    "df1.count()\n",
    "duration_shuffle = time.time() - start_time\n",
    "print(f\"Shuffle Join took: {duration_shuffle:.2f} seconds\")\n"
   ]
  },
  {
   "cell_type": "code",
   "execution_count": 24,
   "id": "7605588f-aa0b-4d87-b0ab-a67cb4151045",
   "metadata": {},
   "outputs": [
    {
     "name": "stdout",
     "output_type": "stream",
     "text": [
      "Broadcast Join took: 1.74 seconds\n"
     ]
    }
   ],
   "source": [
    "# 2. Broadcast Join\n",
    "start_time = time.time()\n",
    "df2 = sales.join(broadcast(customers_df), \"customer_id\")\n",
    "df2.count()\n",
    "duration_broadcast = time.time() - start_time\n",
    "print(f\"Broadcast Join took: {duration_broadcast:.2f} seconds\")"
   ]
  },
  {
   "cell_type": "code",
   "execution_count": null,
   "id": "b18cfbf7-3180-4e3b-aaa7-ac63e711869f",
   "metadata": {},
   "outputs": [],
   "source": [
    "df = sales.join(customers_df, \"customer_id\")\n",
    "df.explain(\"formatted\")  # Detailed plan\n"
   ]
  },
  {
   "cell_type": "code",
   "execution_count": null,
   "id": "587142d3-593c-435f-bb60-6317d16ce666",
   "metadata": {},
   "outputs": [],
   "source": [
    "spark.stop()"
   ]
  }
 ],
 "metadata": {
  "kernelspec": {
   "display_name": "Python 3 (ipykernel)",
   "language": "python",
   "name": "python3"
  },
  "language_info": {
   "codemirror_mode": {
    "name": "ipython",
    "version": 3
   },
   "file_extension": ".py",
   "mimetype": "text/x-python",
   "name": "python",
   "nbconvert_exporter": "python",
   "pygments_lexer": "ipython3",
   "version": "3.10.11"
  }
 },
 "nbformat": 4,
 "nbformat_minor": 5
}
