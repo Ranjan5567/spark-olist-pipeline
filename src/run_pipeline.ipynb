{
 "cells": [
  {
   "cell_type": "code",
   "execution_count": 1,
   "id": "362009ea-5719-459d-af06-bb51df5c727c",
   "metadata": {},
   "outputs": [],
   "source": [
    "import os\n",
    "os.environ[\"PYSPARK_PYTHON\"] = r\"C:\\Users\\ranjan\\Desktop\\spark-olist-pipeline\\venv\\Scripts\\python.exe\"\n",
    "os.environ[\"PYSPARK_DRIVER_PYTHON\"] = r\"C:\\Users\\ranjan\\Desktop\\spark-olist-pipeline\\venv\\Scripts\\python.exe\"\n",
    "os.environ[\"spark.python.worker.reuse\"] = \"true\""
   ]
  },
  {
   "cell_type": "code",
   "execution_count": 2,
   "id": "7d5e2947-2b38-4208-8f02-a887a071cdd1",
   "metadata": {},
   "outputs": [],
   "source": [
    "import sys\n",
    "sys.path.append(os.path.abspath(\"../src\")) \n",
    "from bronze import create_spark_session, ingest_csv\n",
    "from silver import curate_sales\n",
    "\n",
    "spark = create_spark_session(\"OlistPipeline\")"
   ]
  },
  {
   "cell_type": "code",
   "execution_count": 3,
   "id": "56822a80-2de1-4fc4-8063-7e84abe71f39",
   "metadata": {},
   "outputs": [
    {
     "name": "stdout",
     "output_type": "stream",
     "text": [
      "Adaptive Query Execution Enabled: true\n"
     ]
    }
   ],
   "source": [
    "# Check AQE\n",
    "print(\"Adaptive Query Execution Enabled:\", spark.conf.get(\"spark.sql.adaptive.enabled\"))"
   ]
  },
  {
   "cell_type": "code",
   "execution_count": 4,
   "id": "d6110909-cc86-499f-a051-78fd144d56f1",
   "metadata": {},
   "outputs": [],
   "source": [
    "# Define paths\n",
    "base_input = \"../data/\"\n",
    "bronze_output = \"../delta/bronze/\""
   ]
  },
  {
   "cell_type": "code",
   "execution_count": 5,
   "id": "30c7fb8c-cc50-4f9c-ab3e-492ec14bd956",
   "metadata": {},
   "outputs": [],
   "source": [
    "\n",
    "# Bronze ingestion for all Olist tables\n",
    "datasets = {\n",
    "    \"customers\": \"olist_customers_dataset.csv\",\n",
    "    \"orders\": \"olist_orders_dataset.csv\",\n",
    "    \"order_items\": \"olist_order_items_dataset.csv\",\n",
    "    \"order_payments\": \"olist_order_payments_dataset.csv\",\n",
    "    \"order_reviews\": \"olist_order_reviews_dataset.csv\",\n",
    "    \"products\": \"olist_products_dataset.csv\",\n",
    "    \"sellers\": \"olist_sellers_dataset.csv\",\n",
    "    \"geolocation\": \"olist_geolocation_dataset.csv\",\n",
    "    \"category_translation\": \"product_category_name_translation.csv\"\n",
    "}\n"
   ]
  },
  {
   "cell_type": "code",
   "execution_count": 6,
   "id": "9c559f99-b54b-4fad-99e8-8c589a2e0920",
   "metadata": {},
   "outputs": [
    {
     "name": "stdout",
     "output_type": "stream",
     "text": [
      "\n",
      "[INFO] Ingesting customers → ../delta/bronze/customers\n",
      "[INFO] Ingested ../data/olist_customers_dataset.csv → ../delta/bronze/customers\n",
      "[INFO] Files written under ../delta/bronze/customers:\n",
      "   part-00000-e5f4f3bb-0f93-4257-bb8f-dac2db404178-c000.snappy.parquet → 3.36 MB\n",
      "   part-00001-8b892c16-5b08-4713-b4c7-6a67a9f5ce98-c000.snappy.parquet → 3.35 MB\n",
      "[INFO] Showing customers table (first 5 rows):\n",
      "+--------------------------------+--------------------------------+------------------------+--------------------+--------------+\n",
      "|customer_id                     |customer_unique_id              |customer_zip_code_prefix|customer_city       |customer_state|\n",
      "+--------------------------------+--------------------------------+------------------------+--------------------+--------------+\n",
      "|6ae91e04653dc3a0c205363ffff0081f|1dde89b524bd2ce5480df99d22539136|28911                   |cabo frio           |RJ            |\n",
      "|ff84d0fa669f79bdc394cadf5d651cf2|4fd1b2e7c09c60c05762f31151d464f8|13236                   |campo limpo paulista|SP            |\n",
      "|25936c2bf3471a32f522df4e5949e725|e49c82ca5e5ebe3153400c1adc06cc9a|99700                   |erechim             |RS            |\n",
      "|ec969a27db96260fb93c52ab2c073b5c|e75ef15643b054b600909c9eeb5a8fde|55292                   |garanhuns           |PE            |\n",
      "|3426e7a4ab70dfdf2fe8ae2060984be3|a784c03aa8b195a1b7bf3894516de858|30690                   |belo horizonte      |MG            |\n",
      "+--------------------------------+--------------------------------+------------------------+--------------------+--------------+\n",
      "only showing top 5 rows\n",
      "\n",
      "\n",
      "[INFO] Ingesting orders → ../delta/bronze/orders\n",
      "[INFO] Added derived partition column 'order_purchase_month'\n",
      "[INFO] Ingested ../data/olist_orders_dataset.csv → ../delta/bronze/orders\n",
      "[INFO] Files written under ../delta/bronze/orders:\n",
      "   part-00000-96e61e7e-ff6b-43ce-a711-2c310b076b4a.c000.snappy.parquet → 0.00 MB\n",
      "   part-00001-f5300d5e-1dd1-4097-900e-10624fad7b05.c000.snappy.parquet → 0.00 MB\n",
      "   part-00000-1a8d4077-f14d-4c99-9fd6-c41eaa695529.c000.snappy.parquet → 0.02 MB\n",
      "   part-00001-7bad17a7-8f71-4555-9118-9222d612d68c.c000.snappy.parquet → 0.02 MB\n",
      "   part-00000-fd372da8-79ae-4ca9-beb9-373048b6d30c.c000.snappy.parquet → 0.00 MB\n",
      "   part-00000-4ae136b5-e9ad-4d6c-9b68-a1d8b5a0508e.c000.snappy.parquet → 0.04 MB\n",
      "   part-00001-e47c1239-e34c-4abb-b4f5-9996c07595ce.c000.snappy.parquet → 0.04 MB\n",
      "   part-00000-102a3dd8-b82b-485d-962e-bcfacf93bf4e.c000.snappy.parquet → 0.09 MB\n",
      "   part-00001-5bcb3130-b3e5-465d-af3a-87a1cb2e82d4.c000.snappy.parquet → 0.09 MB\n",
      "   part-00000-6df23268-69ea-4151-a0dc-cea0254ea590.c000.snappy.parquet → 0.14 MB\n",
      "   part-00001-47ef21d1-6670-481b-850e-f5e1c2f9d202.c000.snappy.parquet → 0.13 MB\n",
      "   part-00000-2c4786b4-d982-4896-b1d7-2658b060c0b6.c000.snappy.parquet → 0.12 MB\n",
      "   part-00001-6a126bb5-7098-4b1b-96f1-4995d9f244fa.c000.snappy.parquet → 0.12 MB\n",
      "   part-00000-b436bc05-8f8b-4d4a-ba3e-5b5ce0e77479.c000.snappy.parquet → 0.18 MB\n",
      "   part-00001-b11ba812-3759-44c2-b666-c308375640f2.c000.snappy.parquet → 0.18 MB\n",
      "   part-00000-e1f01e1f-e324-4e44-945b-0d3eb70371b9.c000.snappy.parquet → 0.16 MB\n",
      "   part-00001-046438ef-b1a7-4ef6-84e7-d409edd3a67d.c000.snappy.parquet → 0.16 MB\n",
      "   part-00000-2401a0a1-fb10-4594-ba8f-538aef2947ca.c000.snappy.parquet → 0.19 MB\n",
      "   part-00001-e5e6827b-f9a3-4fd1-81da-88474b05a489.c000.snappy.parquet → 0.21 MB\n",
      "   part-00000-6047b479-e1c2-4de0-9afe-744c96b4f182.c000.snappy.parquet → 0.22 MB\n",
      "   part-00001-3e02745e-9e53-49b1-acff-00ca497a3c5c.c000.snappy.parquet → 0.21 MB\n",
      "   part-00000-a473cc57-5951-4c8b-9050-27c157ab7713.c000.snappy.parquet → 0.21 MB\n",
      "   part-00001-0a44ff53-1022-4902-a490-0c18b38cfd70.c000.snappy.parquet → 0.21 MB\n",
      "   part-00000-fd2976e5-7ff2-4ff1-9203-da17decd686e.c000.snappy.parquet → 0.23 MB\n",
      "   part-00001-7d924a0a-6484-4531-8126-7f2a19bd2479.c000.snappy.parquet → 0.24 MB\n",
      "   part-00000-cd0eb74a-4b77-46c8-a766-3b86bf294fc4.c000.snappy.parquet → 0.37 MB\n",
      "   part-00001-2cb15009-a684-4cc6-aec6-2171977131f9.c000.snappy.parquet → 0.38 MB\n",
      "   part-00000-578604f6-3db5-4d1a-9cf6-347618f621f4.c000.snappy.parquet → 0.29 MB\n",
      "   part-00001-a87f91c7-d41c-407e-9a45-105f03f88428.c000.snappy.parquet → 0.27 MB\n",
      "   part-00000-25e0bb1d-94e6-4e27-9fc4-a401b52e2f89.c000.snappy.parquet → 0.37 MB\n",
      "   part-00001-a158f125-edb6-4c91-b35f-0b32bbc764a4.c000.snappy.parquet → 0.35 MB\n",
      "   part-00000-dcb423f8-3bc2-4da4-9ccf-28749368b266.c000.snappy.parquet → 0.34 MB\n",
      "   part-00001-4831a56a-cd13-4096-8208-215984b5eaf0.c000.snappy.parquet → 0.33 MB\n",
      "   part-00000-dbaf7909-f80a-4a4c-89cb-c5ca16b8e83e.c000.snappy.parquet → 0.36 MB\n",
      "   part-00001-fa621497-9232-483e-bfb0-455d85924a7c.c000.snappy.parquet → 0.36 MB\n",
      "   part-00000-fcc3a023-3e54-4026-b37c-033d2ac9149f.c000.snappy.parquet → 0.34 MB\n",
      "   part-00001-f9e88bff-a2ae-4179-bf11-e7395a06b82a.c000.snappy.parquet → 0.34 MB\n",
      "   part-00000-f1d1e416-1e77-44d9-b660-9b39abfe3547.c000.snappy.parquet → 0.32 MB\n",
      "   part-00001-25dc0ff5-fd78-465c-8675-c3bf49cd4ac8.c000.snappy.parquet → 0.33 MB\n",
      "   part-00000-a3676df7-c0e2-4d64-9f85-deef1a805d55.c000.snappy.parquet → 0.30 MB\n",
      "   part-00001-c45d9fc5-9bc4-4056-a730-59fd090c769a.c000.snappy.parquet → 0.30 MB\n",
      "   part-00000-72df78df-580e-4169-8abe-9fc37598b494.c000.snappy.parquet → 0.30 MB\n",
      "   part-00001-8b4eade8-9a56-4914-8820-f9121252d873.c000.snappy.parquet → 0.30 MB\n",
      "   part-00000-1577f4cf-c66e-4fe6-8a19-3f05187ba083.c000.snappy.parquet → 0.31 MB\n",
      "   part-00001-cc3a921d-5681-4123-865e-7e4d7ab4ab89.c000.snappy.parquet → 0.31 MB\n",
      "   part-00000-360ced16-0483-4239-bb24-25ed25b41ffd.c000.snappy.parquet → 0.00 MB\n",
      "   part-00001-f0ee4844-9fba-417d-8da5-b8fb7a8f8221.c000.snappy.parquet → 0.00 MB\n",
      "   part-00000-b6c60b52-3b48-4b78-b7d6-c46a53476a45.c000.snappy.parquet → 0.00 MB\n",
      "   part-00001-07fad0a5-9bdc-4698-adfe-bf01e23f2046.c000.snappy.parquet → 0.00 MB\n",
      "[INFO] Showing orders table (first 5 rows):\n",
      "+--------------------------------+--------------------------------+------------+------------------------+-------------------+----------------------------+-----------------------------+-----------------------------+--------------------+\n",
      "|order_id                        |customer_id                     |order_status|order_purchase_timestamp|order_approved_at  |order_delivered_carrier_date|order_delivered_customer_date|order_estimated_delivery_date|order_purchase_month|\n",
      "+--------------------------------+--------------------------------+------------+------------------------+-------------------+----------------------------+-----------------------------+-----------------------------+--------------------+\n",
      "|028e37ed7cdd54ad41506f61df708cf9|5bbc72ac56e6c2d61f23a8a91a6ceac6|delivered   |2018-04-10 16:44:54     |2018-04-10 16:55:40|2018-04-11 18:08:43         |2018-04-12 18:37:36          |2018-04-25 00:00:00          |2018-04             |\n",
      "|a15faf55395d2eb26441175d360c6646|22c9471e9da562d23be5f48914b7c3b1|delivered   |2018-04-10 12:46:14     |2018-04-10 12:55:40|2018-04-11 15:51:51         |2018-04-17 21:51:00          |2018-04-20 00:00:00          |2018-04             |\n",
      "|0d309f0a9fa6f85b5f37ec7e95da3b65|a2667acb77009a458f3cbe8b70db4041|delivered   |2018-04-18 17:58:23     |2018-04-18 18:34:46|2018-04-25 12:32:00         |2018-04-30 15:12:41          |2018-05-15 00:00:00          |2018-04             |\n",
      "|670f7c6ecca0e570a8ad77f58515670d|2e865142221e631b4f080f974bd5db5c|delivered   |2018-04-29 18:29:07     |2018-05-01 02:10:23|2018-05-03 14:38:00         |2018-05-07 17:28:48          |2018-05-21 00:00:00          |2018-04             |\n",
      "|f42f487134140e71384ac6b1f520d681|d468ac6b0cfcebb3f2939fd191cc76ac|delivered   |2018-04-27 12:06:54     |2018-04-27 12:32:02|2018-04-30 13:01:00         |2018-05-04 20:11:12          |2018-05-24 00:00:00          |2018-04             |\n",
      "+--------------------------------+--------------------------------+------------+------------------------+-------------------+----------------------------+-----------------------------+-----------------------------+--------------------+\n",
      "only showing top 5 rows\n",
      "\n",
      "\n",
      "[INFO] Ingesting order_items → ../delta/bronze/order_items\n",
      "[INFO] Ingested ../data/olist_order_items_dataset.csv → ../delta/bronze/order_items\n",
      "[INFO] Files written under ../delta/bronze/order_items:\n",
      "   part-00000-147ce773-b6c1-4b42-9bda-2d1f49ce0f6f-c001.snappy.parquet → 0.49 MB\n",
      "   part-00000-7d3f6b7c-f628-4a29-8baf-633dea4f7b2c-c000.snappy.parquet → 3.10 MB\n",
      "   part-00001-2cb91c91-925a-48a1-893c-8619c09fdf9c-c001.snappy.parquet → 0.49 MB\n",
      "   part-00001-ad543455-653d-4737-a388-289e5ae3368b-c000.snappy.parquet → 3.09 MB\n",
      "[INFO] Showing order_items table (first 5 rows):\n",
      "+--------------------------------+-------------+--------------------------------+--------------------------------+-------------------+-----+-------------+\n",
      "|order_id                        |order_item_id|product_id                      |seller_id                       |shipping_limit_date|price|freight_value|\n",
      "+--------------------------------+-------------+--------------------------------+--------------------------------+-------------------+-----+-------------+\n",
      "|b606a684f47f6156083911fb09287f91|1            |875e0d1c97176d76e9b04c98d06383d2|e8b4225284fbb02d16f200513f1f395d|2018-04-18 21:52:46|145.9|15.11        |\n",
      "|ec0eba3b4fbad8fda2b94df042100196|1            |be642ced82a99a398aa76d720cf47d19|7b07b3c7487f0ea825fc6df75abd658b|2017-11-30 13:31:02|57.8 |21.6         |\n",
      "|b6918562ae8b764ad6d0022da12051fb|2            |9d838a7fbaba7fca5f1fad259984063a|897060da8b9a21f655304d50fd935913|2018-03-26 16:29:31|59.0 |18.29        |\n",
      "|f1b19188d070474e6b24f5e12da6ef4c|1            |b76364870c38ddd7dcc9dd9ab5abeeb4|2a6fbeaa7ab9e5d59a35841a8da71ce4|2017-12-07 13:58:50|48.9 |17.6         |\n",
      "|aa8315492e537030e29f1bc252d26cb1|1            |7e0dc102074f8285580c9777f79c90cf|e26901d5ab434ce92fd9b5c256820a4e|2017-02-23 12:37:14|39.9 |10.96        |\n",
      "+--------------------------------+-------------+--------------------------------+--------------------------------+-------------------+-----+-------------+\n",
      "only showing top 5 rows\n",
      "\n",
      "\n",
      "[INFO] Ingesting order_payments → ../delta/bronze/order_payments\n",
      "[INFO] Ingested ../data/olist_order_payments_dataset.csv → ../delta/bronze/order_payments\n",
      "[INFO] Files written under ../delta/bronze/order_payments:\n",
      "   part-00000-34941274-8367-42dc-9e11-9efe57d94704-c000.snappy.parquet → 1.79 MB\n",
      "   part-00000-d4000d27-3df2-478c-b970-73cb033a3e36-c001.snappy.parquet → 0.07 MB\n",
      "   part-00001-3732a8ca-2f80-4063-967d-54067c236507-c000.snappy.parquet → 1.79 MB\n",
      "   part-00001-fab3e60b-09ea-48cf-a163-225e67ef4b49-c001.snappy.parquet → 0.07 MB\n",
      "[INFO] Showing order_payments table (first 5 rows):\n",
      "+--------------------------------+------------------+------------+--------------------+-------------+\n",
      "|order_id                        |payment_sequential|payment_type|payment_installments|payment_value|\n",
      "+--------------------------------+------------------+------------+--------------------+-------------+\n",
      "|e313e28018f250ccec7488220bbfd285|1                 |credit_card |1                   |44.38        |\n",
      "|9c03496a411754169e1433dc70a583f0|2                 |voucher     |1                   |123.82       |\n",
      "|86fe069057d591923b2a30a47b2fa5ab|1                 |credit_card |3                   |47.0         |\n",
      "|558fa371b24282233214767214895e95|1                 |credit_card |1                   |122.27       |\n",
      "|60566939937556f587e9c32e761f794b|1                 |credit_card |8                   |348.07       |\n",
      "+--------------------------------+------------------+------------+--------------------+-------------+\n",
      "only showing top 5 rows\n",
      "\n",
      "\n",
      "[INFO] Ingesting order_reviews → ../delta/bronze/order_reviews\n",
      "[INFO] Ingested ../data/olist_order_reviews_dataset.csv → ../delta/bronze/order_reviews\n",
      "[INFO] Files written under ../delta/bronze/order_reviews:\n",
      "   part-00000-74207337-6d7d-4797-a781-c9abf8c5b074-c000.snappy.parquet → 4.44 MB\n",
      "   part-00000-e1d9ced7-e12b-4885-8db5-c986646c3bb0-c001.snappy.parquet → 0.19 MB\n",
      "   part-00001-7a72bb63-76aa-4784-83b9-397ef96470d8-c000.snappy.parquet → 4.44 MB\n",
      "   part-00001-ed8a3cf9-6e17-4161-a355-81bdaa4ce6a4-c001.snappy.parquet → 0.19 MB\n",
      "[INFO] Showing order_reviews table (first 5 rows):\n",
      "+------------------------------------------------------+--------------------------------+------------+--------------------+------------------------------------------------------------------------------------------------------+--------------------+-----------------------+\n",
      "|review_id                                             |order_id                        |review_score|review_comment_title|review_comment_message                                                                                |review_creation_date|review_answer_timestamp|\n",
      "+------------------------------------------------------+--------------------------------+------------+--------------------+------------------------------------------------------------------------------------------------------+--------------------+-----------------------+\n",
      "|dd3b9a473c597c76680f27d5b190dbd3                      |aef44b8c84ba0725db5b3c5bd7b29200|5           |NULL                |NULL                                                                                                  |2018-07-05 00:00:00 |2018-07-05 22:37:04    |\n",
      "|Quando fiz o pedido achei que era a fórmula original..|NULL                            |NULL        |NULL                |NULL                                                                                                  |NULL                |NULL                   |\n",
      "|03eed86b6e1640f7640b15adb69028a9                      |b2be2e2f35e143f8895228b3c9b83eab|5           |NULL                |NULL                                                                                                  |2017-12-22 00:00:00 |2017-12-23 14:50:34    |\n",
      "|96c4cb4bc3a4c3dc2d32e71447fe6ecb                      |2dc8ae13ff86f4dcefb60ddfbaf43df8|5           |NULL                |Entrega rápida!                                                                                       |2017-05-05 00:00:00 |2017-05-06 01:16:06    |\n",
      "|b4f1cee548fca64f9edaa02b285308ce                      |a12361dc52836f98226e3a57cf3569bf|1           |NULL                |Material horrível ,totalmente diferente do que apresenta na imagem e na descrição , não vale o valor .|2017-03-28 00:00:00 |2017-03-29 11:34:21    |\n",
      "+------------------------------------------------------+--------------------------------+------------+--------------------+------------------------------------------------------------------------------------------------------+--------------------+-----------------------+\n",
      "only showing top 5 rows\n",
      "\n",
      "\n",
      "[INFO] Ingesting products → ../delta/bronze/products\n",
      "[INFO] Ingested ../data/olist_products_dataset.csv → ../delta/bronze/products\n",
      "[INFO] Files written under ../delta/bronze/products:\n",
      "   part-00000-4f623874-d478-4c68-b34f-bd0d3da1dd13-c000.snappy.parquet → 0.66 MB\n",
      "   part-00001-bbefb0df-0a07-4bf6-84ef-1246a7ca6cf1-c000.snappy.parquet → 0.66 MB\n",
      "[INFO] Showing products table (first 5 rows):\n",
      "+--------------------------------+-------------------------+-------------------+--------------------------+------------------+----------------+-----------------+-----------------+----------------+\n",
      "|product_id                      |product_category_name    |product_name_lenght|product_description_lenght|product_photos_qty|product_weight_g|product_length_cm|product_height_cm|product_width_cm|\n",
      "+--------------------------------+-------------------------+-------------------+--------------------------+------------------+----------------+-----------------+-----------------+----------------+\n",
      "|aa5a3fa92cb1221a38267376d25cfd8a|cama_mesa_banho          |52                 |276                       |1                 |1150            |41               |13               |13              |\n",
      "|c7bd850b9a356ee44d5a2a55f7a5b657|esporte_lazer            |63                 |1562                      |10                |1150            |20               |16               |20              |\n",
      "|1953c4e517bc25739bc4223ede2ff5bc|relogios_presentes       |53                 |2390                      |1                 |800             |25               |14               |16              |\n",
      "|24fee4a800146a47846fa0e345b6d6ed|agro_industria_e_comercio|22                 |353                       |1                 |800             |20               |20               |20              |\n",
      "|269616df4c79febdae020f2d978594ed|climatizacao             |60                 |595                       |4                 |2400            |16               |40               |15              |\n",
      "+--------------------------------+-------------------------+-------------------+--------------------------+------------------+----------------+-----------------+-----------------+----------------+\n",
      "only showing top 5 rows\n",
      "\n",
      "\n",
      "[INFO] Ingesting sellers → ../delta/bronze/sellers\n",
      "[INFO] Ingested ../data/olist_sellers_dataset.csv → ../delta/bronze/sellers\n",
      "[INFO] Files written under ../delta/bronze/sellers:\n",
      "   part-00000-f5722bfc-dc8d-4516-8ac1-fb2fd251f270-c000.snappy.parquet → 0.06 MB\n",
      "   part-00001-5f18371a-9ec3-4660-b865-5d1d613fccf3-c000.snappy.parquet → 0.06 MB\n",
      "[INFO] Showing sellers table (first 5 rows):\n",
      "+--------------------------------+----------------------+--------------+------------+\n",
      "|seller_id                       |seller_zip_code_prefix|seller_city   |seller_state|\n",
      "+--------------------------------+----------------------+--------------+------------+\n",
      "|918f6fbcf3ab724d805867303e593a1b|13273                 |valinhos      |SP          |\n",
      "|1588ac4010787100dddef64568f0ae35|87045                 |maringa       |PR          |\n",
      "|06579cb253ecd5a3a12a9e6eb6bf8f47|4007                  |sao paulo - sp|SP          |\n",
      "|07bf9669d84d1f11be443a9dd938f698|4761                  |sao paulo     |SP          |\n",
      "|f1c1ac3f3efc07e659c035008e615e66|2119                  |sao paulo     |SP          |\n",
      "+--------------------------------+----------------------+--------------+------------+\n",
      "only showing top 5 rows\n",
      "\n",
      "\n",
      "[INFO] Ingesting geolocation → ../delta/bronze/geolocation\n",
      "[INFO] Ingested ../data/olist_geolocation_dataset.csv → ../delta/bronze/geolocation\n",
      "[INFO] Files written under ../delta/bronze/geolocation:\n",
      "   part-00000-6a0bdb73-03ae-431b-9271-62da099f971a-c001.snappy.parquet → 0.00 MB\n",
      "   part-00000-92249cfa-0f40-49e7-aebf-0caa8fe5105d-c000.snappy.parquet → 1.01 MB\n",
      "   part-00001-db8552ab-ab79-4d0c-a459-7a33d1b70030-c001.snappy.parquet → 0.00 MB\n",
      "   part-00001-dd566d63-c00a-4fd9-b28a-1f9add37d574-c000.snappy.parquet → 1.01 MB\n",
      "   part-00002-8f39aa86-f413-4069-8b6f-0587d20ebf56-c000.snappy.parquet → 1.02 MB\n",
      "   part-00002-a7dd96e5-26ef-4937-89c4-b78a0e20efae-c001.snappy.parquet → 0.00 MB\n",
      "   part-00003-14912729-1c52-4399-b32a-c49f12c54ff6-c000.snappy.parquet → 1.01 MB\n",
      "   part-00003-b7e02cfd-b62c-44e5-a9c2-b9a104bf4577-c001.snappy.parquet → 0.00 MB\n",
      "   part-00004-72808466-4369-4cdd-b233-1dfb3bd71e81-c001.snappy.parquet → 0.00 MB\n",
      "   part-00004-90d8b5e4-2891-44c3-be13-31bf8a01e11e-c000.snappy.parquet → 1.01 MB\n",
      "   part-00005-b030cc73-5039-457d-875d-2eee6d3e8411-c000.snappy.parquet → 1.02 MB\n",
      "   part-00005-fc8684e7-13b1-437f-91ee-89bedc89dc85-c001.snappy.parquet → 0.00 MB\n",
      "   part-00006-7670c274-812f-4257-b52d-35a5b5831386-c001.snappy.parquet → 0.00 MB\n",
      "   part-00006-abc803cd-b213-4723-bfe7-5d03fc30e470-c000.snappy.parquet → 1.02 MB\n",
      "   part-00007-08b48b7d-e751-459e-bcfd-a3acfa921960-c001.snappy.parquet → 0.00 MB\n",
      "   part-00007-4d847a70-03e9-4f28-a2a9-20d1feb9ad45-c000.snappy.parquet → 1.02 MB\n",
      "   part-00008-9aa810f9-24ee-457a-9c4b-e6c0b4a438d9-c001.snappy.parquet → 0.00 MB\n",
      "   part-00008-afedf32d-a565-4308-acec-65289e6baeae-c000.snappy.parquet → 1.02 MB\n",
      "   part-00009-22540320-6be5-4c96-892e-40eac8077cfb-c001.snappy.parquet → 0.00 MB\n",
      "   part-00009-44a49cc4-b231-4c9f-bfcb-714e7b84f86f-c000.snappy.parquet → 1.02 MB\n",
      "   part-00010-6c1f6dad-b5de-4a25-8331-f1cf19bdfe55-c000.snappy.parquet → 1.02 MB\n",
      "   part-00010-f34c9d8f-3069-4c9e-9320-e4ec34bda26c-c001.snappy.parquet → 0.00 MB\n",
      "   part-00011-26d21f63-9b6c-4ec7-9d97-578e5dd8a13c-c001.snappy.parquet → 0.00 MB\n",
      "   part-00011-5ae0690a-1ba7-4ddd-9e5e-c79c4f0782ee-c000.snappy.parquet → 1.02 MB\n",
      "   part-00012-2dc7f1f0-ea18-4419-bc35-661bd3d00ac1-c001.snappy.parquet → 0.00 MB\n",
      "   part-00012-3341f539-dd89-4e4d-b6c7-5248cf16de2a-c000.snappy.parquet → 1.01 MB\n",
      "   part-00013-8b6c924b-205e-405f-8f21-871e6ff499aa-c000.snappy.parquet → 1.02 MB\n",
      "   part-00013-c781becd-611f-4a12-a7d8-d0dc48139b65-c001.snappy.parquet → 0.00 MB\n",
      "   part-00014-6cc33d77-aae4-4cb0-bd3f-c1a68024b807-c000.snappy.parquet → 1.01 MB\n",
      "   part-00014-8c412f7f-9178-4397-a84d-8bdb1249370f-c001.snappy.parquet → 0.00 MB\n",
      "   part-00015-602b5ae6-cf6e-4429-b561-5d4b7cb3d665-c000.snappy.parquet → 1.01 MB\n",
      "   part-00015-68a58814-6dc0-42e2-a4ca-b53ded8dd648-c001.snappy.parquet → 0.00 MB\n",
      "   part-00016-25074ecd-72c0-484c-8f1a-9c9acb4e5d7d-c001.snappy.parquet → 0.00 MB\n",
      "   part-00016-437639f1-6fe8-4e7d-bd6e-f93efe1cc488-c000.snappy.parquet → 1.02 MB\n",
      "   part-00017-6619a058-9498-41be-9e58-10f7cd57f2e4-c000.snappy.parquet → 1.02 MB\n",
      "   part-00017-7d69f16f-9d6e-42a0-82c3-3e060cec4dca-c001.snappy.parquet → 0.00 MB\n",
      "   part-00018-8d5350d7-3d61-4424-bcc2-35c0d60b79ee-c001.snappy.parquet → 0.00 MB\n",
      "   part-00018-d94da839-94d5-45ab-b35f-cf792a390d0e-c000.snappy.parquet → 1.01 MB\n",
      "   part-00019-e6331403-3ef1-4e0a-b60d-dfbff3d4fe6b-c000.snappy.parquet → 1.02 MB\n",
      "   part-00019-f17842ae-2dee-4917-9d8b-93cd18d8de3e-c001.snappy.parquet → 0.00 MB\n",
      "[INFO] Showing geolocation table (first 5 rows):\n",
      "+---------------------------+-------------------+-------------------+------------------+-----------------+\n",
      "|geolocation_zip_code_prefix|geolocation_lat    |geolocation_lng    |geolocation_city  |geolocation_state|\n",
      "+---------------------------+-------------------+-------------------+------------------+-----------------+\n",
      "|88330                      |-27.003944999999945|-48.621013999999974|balneario camboriu|SC               |\n",
      "|90010                      |-30.029195912574284|-51.2287437356454  |porto alegre      |RS               |\n",
      "|79841                      |-22.228764708827494|-54.75130659953742 |dourados          |MS               |\n",
      "|93900                      |-29.609995844686985|-51.17793502808416 |ivoti             |RS               |\n",
      "|99435                      |-28.892535790076362|-53.00330747963191 |campos borges     |RS               |\n",
      "+---------------------------+-------------------+-------------------+------------------+-----------------+\n",
      "only showing top 5 rows\n",
      "\n",
      "\n",
      "[INFO] Ingesting category_translation → ../delta/bronze/category_translation\n",
      "[INFO] Ingested ../data/product_category_name_translation.csv → ../delta/bronze/category_translation\n",
      "[INFO] Files written under ../delta/bronze/category_translation:\n",
      "   part-00000-6831fbc3-0f7e-465c-9126-09c542792f5d-c000.snappy.parquet → 0.00 MB\n",
      "   part-00001-0ce00d1b-cbdc-43c3-a9fc-cea6ea0f768f-c000.snappy.parquet → 0.00 MB\n",
      "[INFO] Showing category_translation table (first 5 rows):\n",
      "+-----------------------+-----------------------------+\n",
      "|product_category_name  |product_category_name_english|\n",
      "+-----------------------+-----------------------------+\n",
      "|esporte_lazer          |sports_leisure               |\n",
      "|seguros_e_servicos     |security_and_services        |\n",
      "|livros_interesse_geral |books_general_interest       |\n",
      "|sinalizacao_e_seguranca|signaling_and_security       |\n",
      "|ferramentas_jardim     |garden_tools                 |\n",
      "+-----------------------+-----------------------------+\n",
      "only showing top 5 rows\n",
      "\n"
     ]
    }
   ],
   "source": [
    "for name, filename in datasets.items():\n",
    "    input_path = f\"{base_input}{filename}\"\n",
    "    output_path = f\"{bronze_output}{name}\"\n",
    "\n",
    "    print(f\"\\n[INFO] Ingesting {name} → {output_path}\")\n",
    "    \n",
    "    if name == \"orders\":  # partition only orders\n",
    "        ingest_csv(spark, input_path, output_path, partition_col=\"order_purchase_month\", target_file_rows=50000)\n",
    "    else:\n",
    "        ingest_csv(spark, input_path, output_path, target_file_rows=50000)\n",
    "\n",
    "    # Read back from Delta & show\n",
    "    df = spark.read.format(\"delta\").load(output_path)\n",
    "    print(f\"[INFO] Showing {name} table (first 5 rows):\")\n",
    "    df.show(5, truncate=False)\n",
    "\n"
   ]
  },
  {
   "cell_type": "code",
   "execution_count": 7,
   "id": "b59abef2-febc-4624-8138-8e8b64cc2276",
   "metadata": {},
   "outputs": [
    {
     "name": "stdout",
     "output_type": "stream",
     "text": [
      "Bronze layer  ingestion completed successfully!\n"
     ]
    }
   ],
   "source": [
    "print(\"Bronze layer  ingestion completed successfully!\")\n"
   ]
  },
  {
   "cell_type": "code",
   "execution_count": 8,
   "id": "08bf3f25-1d89-4f51-a226-b7aa1e948ddd",
   "metadata": {},
   "outputs": [],
   "source": [
    "silver_output = \"../delta/silver/\""
   ]
  },
  {
   "cell_type": "code",
   "execution_count": 9,
   "id": "050ea20c-d997-42f2-9470-3d659a592da7",
   "metadata": {},
   "outputs": [
    {
     "name": "stdout",
     "output_type": "stream",
     "text": [
      " Silver layer sales curated and saved at ../delta/silver//sales\n"
     ]
    }
   ],
   "source": [
    "# Curate Silver Layer\n",
    "curate_sales(spark, bronze_base=bronze_output, silver_base=silver_output)"
   ]
  },
  {
   "cell_type": "code",
   "execution_count": 10,
   "id": "4c60df46-fbc0-45d5-ad86-14041980bb41",
   "metadata": {},
   "outputs": [
    {
     "name": "stdout",
     "output_type": "stream",
     "text": [
      "\n",
      "[INFO] Silver Layer Sales Table:\n",
      "+--------------------------------+--------------------------------+--------------------------------+--------------------------------+------------+------------------------+-------------------+----------------------------+-----------------------------+-----------------------------+--------------------+-------------+-------------------+-----+-------------+-----------+------------------+------------+--------------------+-------------+--------------------------------+------------------------+-------------+--------------+----------------------+---------------+------------+---------------------+-------------------+--------------------------+------------------+----------------+-----------------+-----------------+----------------+-----------------------------+\n",
      "|product_id                      |seller_id                       |customer_id                     |order_id                        |order_status|order_purchase_timestamp|order_approved_at  |order_delivered_carrier_date|order_delivered_customer_date|order_estimated_delivery_date|order_purchase_month|order_item_id|shipping_limit_date|price|freight_value|seller_salt|payment_sequential|payment_type|payment_installments|payment_value|customer_unique_id              |customer_zip_code_prefix|customer_city|customer_state|seller_zip_code_prefix|seller_city    |seller_state|product_category_name|product_name_lenght|product_description_lenght|product_photos_qty|product_weight_g|product_length_cm|product_height_cm|product_width_cm|product_category_name_english|\n",
      "+--------------------------------+--------------------------------+--------------------------------+--------------------------------+------------+------------------------+-------------------+----------------------------+-----------------------------+-----------------------------+--------------------+-------------+-------------------+-----+-------------+-----------+------------------+------------+--------------------+-------------+--------------------------------+------------------------+-------------+--------------+----------------------+---------------+------------+---------------------+-------------------+--------------------------+------------------+----------------+-----------------+-----------------+----------------+-----------------------------+\n",
      "|6e77b89d36e50217e6793780a8ce5c82|ea8482cd71df3c1969d7b9473ff13abc|e41b352847236a6ae426ddbd2c3a4e1b|a02af2d708eae3995c247d758141efc8|delivered   |2017-11-09 22:57:23     |2017-11-09 23:10:42|2017-11-16 14:08:49         |2017-12-10 20:04:07          |2017-12-04 00:00:00          |2017-11             |1            |2017-11-16 23:10:42|24.99|15.79        |1          |1                 |credit_card |1                   |40.78        |1e3bde65aa43e0c549d20b7acde4074a|41110                   |salvador     |ba            |4160                  |sao paulo      |sp          |telefonia            |60                 |777                       |6                 |300             |17               |4                |12              |telephony                    |\n",
      "|4256cf575577f02e6c98d452ad40fa63|244c2f1bff6afe1f2eaf9bfe9b2aed38|eb2a5bfb253eddfafaf07ae743a90b05|c1aee3898c27b4b86706a7a0259efd19|delivered   |2017-11-21 10:29:16     |2017-11-23 02:47:36|2017-11-28 20:59:17         |2017-12-20 12:47:02          |2017-12-06 00:00:00          |2017-11             |1            |2017-12-04 02:47:36|99.0 |32.93        |2          |1                 |boleto      |1                   |395.79       |fb22cab15a8656528c3d36648860c9bc|4025                    |sao paulo    |sp            |8832                  |mogi das cruzes|sp          |moveis_decoracao     |52                 |747                       |4                 |13200           |40               |60               |40              |furniture_decor              |\n",
      "|4256cf575577f02e6c98d452ad40fa63|244c2f1bff6afe1f2eaf9bfe9b2aed38|eb2a5bfb253eddfafaf07ae743a90b05|c1aee3898c27b4b86706a7a0259efd19|delivered   |2017-11-21 10:29:16     |2017-11-23 02:47:36|2017-11-28 20:59:17         |2017-12-20 12:47:02          |2017-12-06 00:00:00          |2017-11             |3            |2017-12-04 02:47:36|99.0 |32.93        |4          |1                 |boleto      |1                   |395.79       |fb22cab15a8656528c3d36648860c9bc|4025                    |sao paulo    |sp            |8832                  |mogi das cruzes|sp          |moveis_decoracao     |52                 |747                       |4                 |13200           |40               |60               |40              |furniture_decor              |\n",
      "|4256cf575577f02e6c98d452ad40fa63|244c2f1bff6afe1f2eaf9bfe9b2aed38|eb2a5bfb253eddfafaf07ae743a90b05|c1aee3898c27b4b86706a7a0259efd19|delivered   |2017-11-21 10:29:16     |2017-11-23 02:47:36|2017-11-28 20:59:17         |2017-12-20 12:47:02          |2017-12-06 00:00:00          |2017-11             |2            |2017-12-04 02:47:36|99.0 |32.93        |3          |1                 |boleto      |1                   |395.79       |fb22cab15a8656528c3d36648860c9bc|4025                    |sao paulo    |sp            |8832                  |mogi das cruzes|sp          |moveis_decoracao     |52                 |747                       |4                 |13200           |40               |60               |40              |furniture_decor              |\n",
      "|4d53c4c283619d61ff3638ec8e2854d3|a673821011d0cec28146ea42f5ab767f|9ed1e8dd585793101fbbc5f1d8686e39|74c7716ab7523de71a5bab869d6a0055|delivered   |2017-11-27 16:07:04     |2017-11-27 16:15:31|2017-11-30 21:33:18         |2017-12-09 16:58:34          |2017-12-18 00:00:00          |2017-11             |1            |2017-12-01 16:15:31|110.9|39.71        |3          |1                 |credit_card |10                  |150.61       |5eb4bcb3697ed797f0e1369de190546c|80030                   |curitiba     |pr            |3809                  |sao paulo      |sp          |cama_mesa_banho      |56                 |905                       |5                 |1550            |32               |6                |25              |bed_bath_table               |\n",
      "+--------------------------------+--------------------------------+--------------------------------+--------------------------------+------------+------------------------+-------------------+----------------------------+-----------------------------+-----------------------------+--------------------+-------------+-------------------+-----+-------------+-----------+------------------+------------+--------------------+-------------+--------------------------------+------------------------+-------------+--------------+----------------------+---------------+------------+---------------------+-------------------+--------------------------+------------------+----------------+-----------------+-----------------+----------------+-----------------------------+\n",
      "only showing top 5 rows\n",
      "\n"
     ]
    }
   ],
   "source": [
    "# Verify Silver\n",
    "print(\"\\n[INFO] Silver Layer Sales Table:\")\n",
    "sales_df = spark.read.format(\"delta\").load(f\"{silver_output}/sales\")\n",
    "sales_df.show(5, truncate=False)"
   ]
  },
  {
   "cell_type": "code",
   "execution_count": 11,
   "id": "2f693f71-8900-449a-80e3-c62136cd319e",
   "metadata": {},
   "outputs": [
    {
     "name": "stdout",
     "output_type": "stream",
     "text": [
      "+--------------------+-----------+\n",
      "|           seller_id|seller_salt|\n",
      "+--------------------+-----------+\n",
      "|52a52b9f656520e99...|          1|\n",
      "|0ea22c1cfbdc755f8...|          2|\n",
      "|7142540dd4c91e223...|          1|\n",
      "|41b39e28db005d973...|          1|\n",
      "|a5ff20ff766e7f50b...|          0|\n",
      "|1430239a858e7682b...|          1|\n",
      "|de722cd6dad950a92...|          1|\n",
      "|1f9ab4708f3056ede...|          2|\n",
      "|14d7985702e72162b...|          2|\n",
      "|0747d5bb69f0586cc...|          0|\n",
      "+--------------------+-----------+\n",
      "only showing top 10 rows\n",
      "\n"
     ]
    }
   ],
   "source": [
    "sales_df.select(\"seller_id\", \"seller_salt\").distinct().show(10)\n"
   ]
  },
  {
   "cell_type": "code",
   "execution_count": 12,
   "id": "6873e832-338e-467b-ae38-c665573e8efb",
   "metadata": {},
   "outputs": [
    {
     "name": "stdout",
     "output_type": "stream",
     "text": [
      "Customer city samples: ['igrejinha', 'aguas de sao pedro', 'camacari', 'arapiraca', 'pote']\n",
      "Customer state samples: ['pi', 'pr', 'rj', 'pb', 'ro']\n",
      "Seller city samples: ['igrejinha', 'brusque', 'buritama', 'sao joao de meriti', 'garca']\n",
      "Seller state samples: ['pi', 'pr', 'rj', 'pb', 'ro']\n"
     ]
    }
   ],
   "source": [
    "# Unique city/state samples for customers & sellers\n",
    "silver_path = \"../delta/silver/\"\n",
    "customers_df = spark.read.format(\"delta\").load(silver_path + \"customers\")\n",
    "sellers_df = spark.read.format(\"delta\").load(silver_path + \"sellers\")\n",
    "\n",
    "print(\"Customer city samples:\", [row.customer_city for row in customers_df.select(\"customer_city\").distinct().limit(5).collect()])\n",
    "print(\"Customer state samples:\", [row.customer_state for row in customers_df.select(\"customer_state\").distinct().limit(5).collect()])\n",
    "\n",
    "print(\"Seller city samples:\", [row.seller_city for row in sellers_df.select(\"seller_city\").distinct().limit(5).collect()])\n",
    "print(\"Seller state samples:\", [row.seller_state for row in sellers_df.select(\"seller_state\").distinct().limit(5).collect()])\n"
   ]
  },
  {
   "cell_type": "code",
   "execution_count": 13,
   "id": "c97b500b-79fa-486c-84f1-0c8e53869a99",
   "metadata": {},
   "outputs": [
    {
     "name": "stdout",
     "output_type": "stream",
     "text": [
      "Duplicate customers: 0\n",
      "Duplicate sellers: 0\n"
     ]
    }
   ],
   "source": [
    "print(\"Duplicate customers:\", customers_df.count() - customers_df.dropDuplicates([\"customer_id\"]).count())\n",
    "print(\"Duplicate sellers:\", sellers_df.count() - sellers_df.dropDuplicates([\"seller_id\"]).count())\n"
   ]
  },
  {
   "cell_type": "code",
   "execution_count": 17,
   "id": "9fd93430-551c-40cc-bafa-1c00d2387196",
   "metadata": {},
   "outputs": [
    {
     "name": "stdout",
     "output_type": "stream",
     "text": [
      "Sample seller_id_salted:\n",
      "+-----------+\n",
      "|seller_salt|\n",
      "+-----------+\n",
      "|1          |\n",
      "|3          |\n",
      "|4          |\n",
      "|2          |\n",
      "|0          |\n",
      "+-----------+\n",
      "\n"
     ]
    }
   ],
   "source": [
    "sales_df = spark.read.format(\"delta\").load(silver_path + \"sales\")\n",
    "\n",
    "print(\"Sample seller_id_salted:\")\n",
    "sales_df.select(\"seller_salt\").distinct().show(10, truncate=False)\n"
   ]
  },
  {
   "cell_type": "code",
   "execution_count": null,
   "id": "fc1fe886-36ff-49e1-bce7-9c61f0c79c10",
   "metadata": {},
   "outputs": [],
   "source": [
    "spark.stop()\n"
   ]
  }
 ],
 "metadata": {
  "kernelspec": {
   "display_name": "Python 3 (ipykernel)",
   "language": "python",
   "name": "python3"
  },
  "language_info": {
   "codemirror_mode": {
    "name": "ipython",
    "version": 3
   },
   "file_extension": ".py",
   "mimetype": "text/x-python",
   "name": "python",
   "nbconvert_exporter": "python",
   "pygments_lexer": "ipython3",
   "version": "3.10.11"
  }
 },
 "nbformat": 4,
 "nbformat_minor": 5
}
