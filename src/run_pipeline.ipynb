{
 "cells": [
  {
   "cell_type": "code",
   "execution_count": 1,
   "id": "362009ea-5719-459d-af06-bb51df5c727c",
   "metadata": {},
   "outputs": [],
   "source": [
    "import os\n",
    "os.environ[\"PYSPARK_PYTHON\"] = r\"C:\\Users\\ranjan\\Desktop\\spark-olist-pipeline\\venv\\Scripts\\python.exe\"\n",
    "os.environ[\"PYSPARK_DRIVER_PYTHON\"] = r\"C:\\Users\\ranjan\\Desktop\\spark-olist-pipeline\\venv\\Scripts\\python.exe\"\n",
    "os.environ[\"spark.python.worker.reuse\"] = \"true\""
   ]
  },
  {
   "cell_type": "code",
   "execution_count": 2,
   "id": "7d5e2947-2b38-4208-8f02-a887a071cdd1",
   "metadata": {},
   "outputs": [],
   "source": [
    "import sys\n",
    "from pyspark.sql.functions import broadcast\n",
    "sys.path.append(os.path.abspath(\"../src\")) \n"
   ]
  },
  {
   "cell_type": "code",
   "execution_count": 3,
   "id": "8d1c16fd-02b4-40de-8523-e10f2f3293e8",
   "metadata": {},
   "outputs": [],
   "source": [
    "from bronze import create_spark_session, ingest_csv\n",
    "from silver import curate_sales\n",
    "from gold import create_daily_sales_state\n",
    "spark = create_spark_session(\"OlistPipeline\")"
   ]
  },
  {
   "cell_type": "code",
   "execution_count": 4,
   "id": "56822a80-2de1-4fc4-8063-7e84abe71f39",
   "metadata": {},
   "outputs": [
    {
     "name": "stdout",
     "output_type": "stream",
     "text": [
      "Adaptive Query Execution Enabled: true\n"
     ]
    }
   ],
   "source": [
    "# Check AQE\n",
    "print(\"Adaptive Query Execution Enabled:\", spark.conf.get(\"spark.sql.adaptive.enabled\"))"
   ]
  },
  {
   "cell_type": "code",
   "execution_count": 5,
   "id": "d6110909-cc86-499f-a051-78fd144d56f1",
   "metadata": {},
   "outputs": [],
   "source": [
    "# Define paths\n",
    "base_input = \"../data/\"\n",
    "bronze_output = \"../delta/bronze/\""
   ]
  },
  {
   "cell_type": "code",
   "execution_count": 6,
   "id": "30c7fb8c-cc50-4f9c-ab3e-492ec14bd956",
   "metadata": {},
   "outputs": [],
   "source": [
    "\n",
    "# Bronze ingestion for all Olist tables\n",
    "datasets = {\n",
    "    \"customers\": \"olist_customers_dataset.csv\",\n",
    "    \"orders\": \"olist_orders_dataset.csv\",\n",
    "    \"order_items\": \"olist_order_items_dataset.csv\",\n",
    "    \"order_payments\": \"olist_order_payments_dataset.csv\",\n",
    "    \"order_reviews\": \"olist_order_reviews_dataset.csv\",\n",
    "    \"products\": \"olist_products_dataset.csv\",\n",
    "    \"sellers\": \"olist_sellers_dataset.csv\",\n",
    "    \"geolocation\": \"olist_geolocation_dataset.csv\",\n",
    "    \"category_translation\": \"product_category_name_translation.csv\"\n",
    "}\n"
   ]
  },
  {
   "cell_type": "code",
   "execution_count": 7,
   "id": "9c559f99-b54b-4fad-99e8-8c589a2e0920",
   "metadata": {},
   "outputs": [
    {
     "name": "stdout",
     "output_type": "stream",
     "text": [
      "\n",
      "[INFO] Ingesting customers → ../delta/bronze/customers\n",
      "[INFO] Ingested ../data/olist_customers_dataset.csv → ../delta/bronze/customers\n",
      "[INFO] Files written under ../delta/bronze/customers:\n",
      "   part-00000-7cf98781-02c5-41c0-a7a1-00eeec53f1d0-c000.snappy.parquet → 3.36 MB\n",
      "   part-00001-05470c5b-349c-48ff-a110-78355bde9509-c000.snappy.parquet → 3.35 MB\n",
      "[INFO] Showing customers table (first 5 rows):\n",
      "+--------------------------------+--------------------------------+------------------------+-------------+--------------+\n",
      "|customer_id                     |customer_unique_id              |customer_zip_code_prefix|customer_city|customer_state|\n",
      "+--------------------------------+--------------------------------+------------------------+-------------+--------------+\n",
      "|15357da0aa538a1e5efabe63f0d71095|57f66dc16e5edbe9417e1e21c783b5a9|13010                   |campinas     |SP            |\n",
      "|47aa66905ec3df607310af4988d34bca|58aaf012cc88d1de4b976f45e059ddf5|4844                    |sao paulo    |SP            |\n",
      "|9015549e1e0438244f52123c59498fa6|e22c7e55a547f8d9bc30d2957ba1c9c5|45810                   |porto seguro |BA            |\n",
      "|9a12e00f66d6b5794f5825e62dc55a72|af9a735e918bd45a036e1a1a4cb67416|5821                    |sao paulo    |SP            |\n",
      "|16f5cb910633b2a0a8d93b9da0168381|e57af309c40f1e310fbf11e8374b0c32|9361                    |maua         |SP            |\n",
      "+--------------------------------+--------------------------------+------------------------+-------------+--------------+\n",
      "only showing top 5 rows\n",
      "\n",
      "\n",
      "[INFO] Ingesting orders → ../delta/bronze/orders\n",
      "[INFO] Added derived partition column 'order_purchase_month'\n",
      "[INFO] Ingested ../data/olist_orders_dataset.csv → ../delta/bronze/orders\n",
      "[INFO] Files written under ../delta/bronze/orders:\n",
      "   part-00000-96ed2065-6e68-4449-bb8c-fc536977627a.c000.snappy.parquet → 0.00 MB\n",
      "   part-00001-6ca16f40-c651-4034-972b-c78fd7b8ec5b.c000.snappy.parquet → 0.00 MB\n",
      "   part-00000-e1c46a36-f161-4dbe-97ca-d7ca1c1438d9.c000.snappy.parquet → 0.02 MB\n",
      "   part-00001-5fd9d7dd-c21c-491a-a38c-c33d99217742.c000.snappy.parquet → 0.02 MB\n",
      "   part-00000-688295f3-2658-4f57-aa7b-ce987a84f650.c000.snappy.parquet → 0.00 MB\n",
      "   part-00000-91aaa5a3-6a23-415f-952d-23026d796355.c000.snappy.parquet → 0.04 MB\n",
      "   part-00001-0b7f4145-5530-43ec-99b0-c3f47ff5e2dd.c000.snappy.parquet → 0.04 MB\n",
      "   part-00000-0145cd9b-1427-4df2-a109-bcd11b7899b0.c000.snappy.parquet → 0.09 MB\n",
      "   part-00001-fe7860ec-f7f6-4c66-abab-09ad2e7ff85c.c000.snappy.parquet → 0.09 MB\n",
      "   part-00000-0765d393-e364-4d4f-8f6b-e2ec4d3872d7.c000.snappy.parquet → 0.14 MB\n",
      "   part-00001-321a7c53-82ac-4611-8f77-972e480d3d50.c000.snappy.parquet → 0.13 MB\n",
      "   part-00000-80b26e2d-7984-49f6-9d9f-4f3658e01c64.c000.snappy.parquet → 0.12 MB\n",
      "   part-00001-7527cb3f-b3cd-41fd-ae96-3b9b5ce16db5.c000.snappy.parquet → 0.12 MB\n",
      "   part-00000-c34a6ce2-0f5a-42ea-9a9c-3978aa593883.c000.snappy.parquet → 0.18 MB\n",
      "   part-00001-a0d693df-ba7b-46ff-871e-6366c2c363c1.c000.snappy.parquet → 0.18 MB\n",
      "   part-00000-730acdc2-fdcc-4760-8472-3d291ad1e328.c000.snappy.parquet → 0.16 MB\n",
      "   part-00001-d5b93e93-efdc-411d-be43-225197a54f16.c000.snappy.parquet → 0.16 MB\n",
      "   part-00000-fc76c2f9-edec-4684-bfaa-95bc6ec18972.c000.snappy.parquet → 0.19 MB\n",
      "   part-00001-9c585d6e-e0e6-40d0-86e4-c1d714378623.c000.snappy.parquet → 0.21 MB\n",
      "   part-00000-dc3ba14a-2e6a-4aae-a224-5e5beda3cc73.c000.snappy.parquet → 0.22 MB\n",
      "   part-00001-f48e96b5-0c7b-4135-be2d-e331489a1caf.c000.snappy.parquet → 0.21 MB\n",
      "   part-00000-37963719-7c1e-492d-9c81-d74827129f61.c000.snappy.parquet → 0.21 MB\n",
      "   part-00001-4500a0c1-3ea2-4258-a595-a622c92fc88c.c000.snappy.parquet → 0.21 MB\n",
      "   part-00000-5e9ce993-93c7-44bc-b85e-f67da5a87a91.c000.snappy.parquet → 0.23 MB\n",
      "   part-00001-4aa9bec9-403d-4c61-a832-ce11b57e45e4.c000.snappy.parquet → 0.24 MB\n",
      "   part-00000-d22534a7-7fe0-4639-a4ad-9efe1110875a.c000.snappy.parquet → 0.37 MB\n",
      "   part-00001-6156a91f-469e-4607-80cd-7ba9cf98a791.c000.snappy.parquet → 0.38 MB\n",
      "   part-00000-e9fc3d8b-b5f2-4d90-a424-b995e235b334.c000.snappy.parquet → 0.29 MB\n",
      "   part-00001-ae9bdbeb-15c8-4441-a805-1b7f8ee8aa83.c000.snappy.parquet → 0.27 MB\n",
      "   part-00000-8f476f6b-856a-4541-8936-66f2457608a6.c000.snappy.parquet → 0.37 MB\n",
      "   part-00001-2e4cf048-5564-41ea-bcf2-2b3c8a6aa39f.c000.snappy.parquet → 0.35 MB\n",
      "   part-00000-1062d715-0897-408f-b653-62bb26e6027a.c000.snappy.parquet → 0.34 MB\n",
      "   part-00001-cf92b56b-48c4-42b7-bc63-c39650f738f6.c000.snappy.parquet → 0.33 MB\n",
      "   part-00000-cce6fa7d-efbd-4480-a08f-56fabc524092.c000.snappy.parquet → 0.36 MB\n",
      "   part-00001-6569f79c-b2e5-4dbc-8931-27932502018f.c000.snappy.parquet → 0.36 MB\n",
      "   part-00000-582e877d-9fb3-4947-b269-f2fab4bb8648.c000.snappy.parquet → 0.34 MB\n",
      "   part-00001-11602dfe-bcfe-4383-8571-f46d8f4c5799.c000.snappy.parquet → 0.34 MB\n",
      "   part-00000-539e51fe-ce1b-48fc-a8ee-f8b6c6ae7784.c000.snappy.parquet → 0.32 MB\n",
      "   part-00001-2b0906d8-ec14-4860-a0f0-8f5da914c2d5.c000.snappy.parquet → 0.33 MB\n",
      "   part-00000-8e81be65-02de-488b-93ab-afcf4a63df67.c000.snappy.parquet → 0.30 MB\n",
      "   part-00001-6aac3b73-56da-4aaa-b255-03f1202e2f31.c000.snappy.parquet → 0.30 MB\n",
      "   part-00000-4f722342-686c-47d5-a56c-442e778d526c.c000.snappy.parquet → 0.30 MB\n",
      "   part-00001-3b696c74-b47a-464f-a499-effc58a46a56.c000.snappy.parquet → 0.30 MB\n",
      "   part-00000-6bddc524-b77e-4707-8f7c-e7e057f5732a.c000.snappy.parquet → 0.31 MB\n",
      "   part-00001-e5a84daa-5e0f-466e-a2da-d18ac767ad82.c000.snappy.parquet → 0.31 MB\n",
      "   part-00000-5f26d57f-ae37-4013-a969-bb70e0b9376b.c000.snappy.parquet → 0.00 MB\n",
      "   part-00001-4bfefe2f-8349-4ee5-b1c7-8ddf306a0b3e.c000.snappy.parquet → 0.00 MB\n",
      "   part-00000-2afdef2f-cd5b-43d5-9741-91ab943b80d8.c000.snappy.parquet → 0.00 MB\n",
      "   part-00001-15d42fdc-a366-4c49-87a9-8d7f54f59e88.c000.snappy.parquet → 0.00 MB\n",
      "[INFO] Showing orders table (first 5 rows):\n",
      "+--------------------------------+--------------------------------+------------+------------------------+-------------------+----------------------------+-----------------------------+-----------------------------+--------------------+\n",
      "|order_id                        |customer_id                     |order_status|order_purchase_timestamp|order_approved_at  |order_delivered_carrier_date|order_delivered_customer_date|order_estimated_delivery_date|order_purchase_month|\n",
      "+--------------------------------+--------------------------------+------------+------------------------+-------------------+----------------------------+-----------------------------+-----------------------------+--------------------+\n",
      "|2825848807f070485f0f0ef3829758f4|b30a4d09f171b5da553bab49a0a61764|delivered   |2016-10-09 22:36:44     |2016-10-10 11:03:15|2016-10-14 11:03:19         |2016-10-17 12:03:19          |2016-11-30 00:00:00          |2016-10             |\n",
      "|85841af0d94e5d0cd3a9c0e42e565b74|603dd05a409bcfe63ca922996c72bdfb|delivered   |2016-10-05 22:39:46     |2016-10-06 16:03:32|2016-10-10 16:03:33         |2016-10-13 16:03:33          |2016-11-25 00:00:00          |2016-10             |\n",
      "|376cc9a8f827d17966ea7c4b182f4426|e9a5cb5d9783e1fc38e23730ff24c51d|delivered   |2016-10-07 19:16:49     |2016-10-07 19:28:39|2016-10-11 19:28:40         |2016-10-14 19:28:40          |2016-11-29 00:00:00          |2016-10             |\n",
      "|a909c24a30d5a05204ecb7ef3f11e321|378149ca89a5e5020931071114dd8865|delivered   |2016-10-07 21:50:26     |2016-10-07 22:15:32|2016-10-11 22:15:33         |2016-10-14 22:15:33          |2016-12-05 00:00:00          |2016-10             |\n",
      "|3d7d60b10ba4b43cf6f6d5df2e933f67|02cb3a8ef6e13d37560379559e2f533d|delivered   |2016-10-10 18:09:39     |2016-10-10 19:00:39|2016-10-30 14:57:59         |2016-10-31 14:57:59          |2016-11-30 00:00:00          |2016-10             |\n",
      "+--------------------------------+--------------------------------+------------+------------------------+-------------------+----------------------------+-----------------------------+-----------------------------+--------------------+\n",
      "only showing top 5 rows\n",
      "\n",
      "\n",
      "[INFO] Ingesting order_items → ../delta/bronze/order_items\n",
      "[INFO] Ingested ../data/olist_order_items_dataset.csv → ../delta/bronze/order_items\n",
      "[INFO] Files written under ../delta/bronze/order_items:\n",
      "   part-00000-16bbad18-dca6-46bc-a41d-819ed1a66358-c001.snappy.parquet → 0.49 MB\n",
      "   part-00000-f919fc93-99ce-4397-b69e-5b7b1ca711e6-c000.snappy.parquet → 3.10 MB\n",
      "   part-00001-e33b85f4-2f18-434f-bd2f-7781a45e192a-c000.snappy.parquet → 3.09 MB\n",
      "   part-00001-f6ad76dd-63b1-4915-ad84-7a8a0d684dcd-c001.snappy.parquet → 0.49 MB\n",
      "[INFO] Showing order_items table (first 5 rows):\n",
      "+--------------------------------+-------------+--------------------------------+--------------------------------+-------------------+-----+-------------+\n",
      "|order_id                        |order_item_id|product_id                      |seller_id                       |shipping_limit_date|price|freight_value|\n",
      "+--------------------------------+-------------+--------------------------------+--------------------------------+-------------------+-----+-------------+\n",
      "|4f04661f0e0a1a23f6d87956884f4a02|2            |f32415d23c358ef1e387a7d329d9ce9f|3586b8580d9c917874e053a1bb37b5ff|2017-07-18 03:25:45|36.9 |16.79        |\n",
      "|105c03baa047b0d003f78f9566ee0984|1            |dc52f0f5d3ec37a93eaf956cde4e5d2c|6560211a19b47992c3666cc44a7e94c0|2017-12-29 09:30:42|49.0 |7.78         |\n",
      "|4e998f9a0a0748cc381ea01aa6de635b|1            |e0de786bb293ef80a03a56de6d0929f9|77530e9772f57a62c906e1c21538ab82|2018-04-18 21:09:40|299.0|28.17        |\n",
      "|101280a25cfcd2e133000129f24d17d7|1            |eb53f94fdc60278efcef123bb275658a|da8622b14eb17ae2831f4ac5b9dab84a|2018-03-06 09:31:07|249.9|26.59        |\n",
      "|50a27906921dc9ef4b7afa6cdb04649b|1            |e1da6ab77f4859eb17950e5df1c0f815|dd7ddc04e1b6c2c614352b383efe2d36|2018-06-27 18:57:49|49.9 |24.98        |\n",
      "+--------------------------------+-------------+--------------------------------+--------------------------------+-------------------+-----+-------------+\n",
      "only showing top 5 rows\n",
      "\n",
      "\n",
      "[INFO] Ingesting order_payments → ../delta/bronze/order_payments\n",
      "[INFO] Ingested ../data/olist_order_payments_dataset.csv → ../delta/bronze/order_payments\n",
      "[INFO] Files written under ../delta/bronze/order_payments:\n",
      "   part-00000-2a8854da-370d-4b12-9e5e-85ef3dbe5301-c000.snappy.parquet → 1.79 MB\n",
      "   part-00000-ceab37b8-ee4a-40c7-9ba0-c5f71cc9cd2d-c001.snappy.parquet → 0.07 MB\n",
      "   part-00001-d946fa1d-913b-4898-b270-75a71b1ab69a-c000.snappy.parquet → 1.79 MB\n",
      "   part-00001-fc3fb8d1-2ba4-48ac-9f90-b5e84ecda45e-c001.snappy.parquet → 0.07 MB\n",
      "[INFO] Showing order_payments table (first 5 rows):\n",
      "+--------------------------------+------------------+------------+--------------------+-------------+\n",
      "|order_id                        |payment_sequential|payment_type|payment_installments|payment_value|\n",
      "+--------------------------------+------------------+------------+--------------------+-------------+\n",
      "|e313e28018f250ccec7488220bbfd285|1                 |credit_card |1                   |44.38        |\n",
      "|9c03496a411754169e1433dc70a583f0|2                 |voucher     |1                   |123.82       |\n",
      "|86fe069057d591923b2a30a47b2fa5ab|1                 |credit_card |3                   |47.0         |\n",
      "|558fa371b24282233214767214895e95|1                 |credit_card |1                   |122.27       |\n",
      "|60566939937556f587e9c32e761f794b|1                 |credit_card |8                   |348.07       |\n",
      "+--------------------------------+------------------+------------+--------------------+-------------+\n",
      "only showing top 5 rows\n",
      "\n",
      "\n",
      "[INFO] Ingesting order_reviews → ../delta/bronze/order_reviews\n",
      "[INFO] Ingested ../data/olist_order_reviews_dataset.csv → ../delta/bronze/order_reviews\n",
      "[INFO] Files written under ../delta/bronze/order_reviews:\n",
      "   part-00000-511d7516-305c-47f2-a27e-7042446b59e9-c001.snappy.parquet → 0.19 MB\n",
      "   part-00000-9b8c8c8c-f48b-4cf4-b295-f8266c31a97e-c000.snappy.parquet → 4.44 MB\n",
      "   part-00001-c32e7e6e-5a6d-4c98-8278-cbff78ff0f55-c000.snappy.parquet → 4.44 MB\n",
      "   part-00001-e30de2d5-ef87-4f8f-8286-0a43902036a3-c001.snappy.parquet → 0.19 MB\n",
      "[INFO] Showing order_reviews table (first 5 rows):\n",
      "+------------------------------------------------------+--------------------------------+------------+--------------------+------------------------------------------------------------------------------------------------------+--------------------+-----------------------+\n",
      "|review_id                                             |order_id                        |review_score|review_comment_title|review_comment_message                                                                                |review_creation_date|review_answer_timestamp|\n",
      "+------------------------------------------------------+--------------------------------+------------+--------------------+------------------------------------------------------------------------------------------------------+--------------------+-----------------------+\n",
      "|dd3b9a473c597c76680f27d5b190dbd3                      |aef44b8c84ba0725db5b3c5bd7b29200|5           |NULL                |NULL                                                                                                  |2018-07-05 00:00:00 |2018-07-05 22:37:04    |\n",
      "|Quando fiz o pedido achei que era a fórmula original..|NULL                            |NULL        |NULL                |NULL                                                                                                  |NULL                |NULL                   |\n",
      "|03eed86b6e1640f7640b15adb69028a9                      |b2be2e2f35e143f8895228b3c9b83eab|5           |NULL                |NULL                                                                                                  |2017-12-22 00:00:00 |2017-12-23 14:50:34    |\n",
      "|96c4cb4bc3a4c3dc2d32e71447fe6ecb                      |2dc8ae13ff86f4dcefb60ddfbaf43df8|5           |NULL                |Entrega rápida!                                                                                       |2017-05-05 00:00:00 |2017-05-06 01:16:06    |\n",
      "|b4f1cee548fca64f9edaa02b285308ce                      |a12361dc52836f98226e3a57cf3569bf|1           |NULL                |Material horrível ,totalmente diferente do que apresenta na imagem e na descrição , não vale o valor .|2017-03-28 00:00:00 |2017-03-29 11:34:21    |\n",
      "+------------------------------------------------------+--------------------------------+------------+--------------------+------------------------------------------------------------------------------------------------------+--------------------+-----------------------+\n",
      "only showing top 5 rows\n",
      "\n",
      "\n",
      "[INFO] Ingesting products → ../delta/bronze/products\n",
      "[INFO] Ingested ../data/olist_products_dataset.csv → ../delta/bronze/products\n",
      "[INFO] Files written under ../delta/bronze/products:\n",
      "   part-00000-361aec7c-f240-4042-b9db-f6fad1dc8a24-c000.snappy.parquet → 0.66 MB\n",
      "   part-00001-20479788-a584-4863-904d-bc7985a86b2e-c000.snappy.parquet → 0.66 MB\n",
      "[INFO] Showing products table (first 5 rows):\n",
      "+--------------------------------+---------------------------+-------------------+--------------------------+------------------+----------------+-----------------+-----------------+----------------+\n",
      "|product_id                      |product_category_name      |product_name_lenght|product_description_lenght|product_photos_qty|product_weight_g|product_length_cm|product_height_cm|product_width_cm|\n",
      "+--------------------------------+---------------------------+-------------------+--------------------------+------------------+----------------+-----------------+-----------------+----------------+\n",
      "|56e04ad5959e2c30a6754d9cc1f098f2|portateis_casa_forno_e_cafe|46                 |490                       |1                 |225             |18               |18               |16              |\n",
      "|623ca22610ff4563843c9568e1f9c870|utilidades_domesticas      |45                 |711                       |1                 |9700            |25               |60               |25              |\n",
      "|7d5d1204ad4036e30b0d4afce077f396|pet_shop                   |63                 |688                       |2                 |200             |20               |10               |20              |\n",
      "|6473836fcba4675677ffc426c98db787|automotivo                 |60                 |261                       |1                 |375             |20               |14               |18              |\n",
      "|c7c99e372ec2f873701c20e3a00ff29c|telefonia                  |53                 |1440                      |3                 |100             |18               |6                |11              |\n",
      "+--------------------------------+---------------------------+-------------------+--------------------------+------------------+----------------+-----------------+-----------------+----------------+\n",
      "only showing top 5 rows\n",
      "\n",
      "\n",
      "[INFO] Ingesting sellers → ../delta/bronze/sellers\n",
      "[INFO] Ingested ../data/olist_sellers_dataset.csv → ../delta/bronze/sellers\n",
      "[INFO] Files written under ../delta/bronze/sellers:\n",
      "   part-00000-1268d435-943c-4b04-9204-a905129d234f-c000.snappy.parquet → 0.06 MB\n",
      "   part-00001-bbd438d6-0166-4158-93d0-e07b7df8e0f8-c000.snappy.parquet → 0.06 MB\n",
      "[INFO] Showing sellers table (first 5 rows):\n",
      "+--------------------------------+----------------------+-----------+------------+\n",
      "|seller_id                       |seller_zip_code_prefix|seller_city|seller_state|\n",
      "+--------------------------------+----------------------+-----------+------------+\n",
      "|35281d148dcf7134bae913c57db4e6da|5171                  |sao paulo  |SP          |\n",
      "|53336f97ddbe53e2a617d07b17447b95|3461                  |sao paulo  |SP          |\n",
      "|fe8055980a4ff7f64ed889c2b5926929|81925                 |curitiba   |PR          |\n",
      "|138dbe45fc62f1e244378131a6801526|2215                  |sao paulo  |SP          |\n",
      "|312ba1d77e9c332ef21f9598b7f64cd7|7179                  |guarulhos  |SP          |\n",
      "+--------------------------------+----------------------+-----------+------------+\n",
      "only showing top 5 rows\n",
      "\n",
      "\n",
      "[INFO] Ingesting geolocation → ../delta/bronze/geolocation\n",
      "[INFO] Ingested ../data/olist_geolocation_dataset.csv → ../delta/bronze/geolocation\n",
      "[INFO] Files written under ../delta/bronze/geolocation:\n",
      "   part-00000-29f7d497-9c09-4bf7-b59d-6dad094d4564-c000.snappy.parquet → 1.01 MB\n",
      "   part-00000-70dfe61d-3590-400d-9e87-b27282976189-c001.snappy.parquet → 0.00 MB\n",
      "   part-00001-513d7779-1642-435a-ba25-59dda6f3d2e0-c000.snappy.parquet → 1.01 MB\n",
      "   part-00001-5f37f280-607e-484e-8e0f-1cf704ca14f7-c001.snappy.parquet → 0.00 MB\n",
      "   part-00002-0a523cbf-5d24-4cc9-83be-6c33962962e2-c000.snappy.parquet → 1.02 MB\n",
      "   part-00002-78e90256-c1bb-44a3-936f-feac344905dd-c001.snappy.parquet → 0.00 MB\n",
      "   part-00003-0b43ba13-e5c2-475b-8ef7-beba19881c0c-c000.snappy.parquet → 1.01 MB\n",
      "   part-00003-125d42ab-9d8a-4ad8-b801-5443cadb2665-c001.snappy.parquet → 0.00 MB\n",
      "   part-00004-3fedb581-cbef-408d-aecd-9898f1b289d4-c000.snappy.parquet → 1.01 MB\n",
      "   part-00004-bff10bda-3532-4779-8827-30adbe382505-c001.snappy.parquet → 0.00 MB\n",
      "   part-00005-5155e647-6b5d-4d2d-89e8-f6a7cfe7c95c-c001.snappy.parquet → 0.00 MB\n",
      "   part-00005-8aaa73df-6da5-4262-a550-16344620854a-c000.snappy.parquet → 1.02 MB\n",
      "   part-00006-33e4df44-2c90-4e93-a743-e43f8396f026-c000.snappy.parquet → 1.02 MB\n",
      "   part-00006-af48c23b-c361-4b46-a829-4ecbb15103b4-c001.snappy.parquet → 0.00 MB\n",
      "   part-00007-d232a9eb-db67-4b20-8b36-e2cda558f1b4-c000.snappy.parquet → 1.02 MB\n",
      "   part-00007-dfb5ed4e-5f6e-419e-89c0-898adf2a1d32-c001.snappy.parquet → 0.00 MB\n",
      "   part-00008-38a4f549-749c-4729-8a57-1915e3655958-c001.snappy.parquet → 0.00 MB\n",
      "   part-00008-abb6f4a4-abbb-4175-b1ce-c221aa14a459-c000.snappy.parquet → 1.02 MB\n",
      "   part-00009-33f35b94-cb69-4177-8d4c-881ed2f558d1-c000.snappy.parquet → 1.02 MB\n",
      "   part-00009-db111f8a-9a68-47b6-9761-48dec6d6fcfb-c001.snappy.parquet → 0.00 MB\n",
      "   part-00010-4197b8b2-7e27-4ee7-b537-c5f61e2bfa29-c001.snappy.parquet → 0.00 MB\n",
      "   part-00010-ea97159e-c294-48a1-a19c-e34f5400de98-c000.snappy.parquet → 1.02 MB\n",
      "   part-00011-35bd1414-f509-4a84-b5e5-f05685dddd01-c000.snappy.parquet → 1.02 MB\n",
      "   part-00011-53d0bf9d-bc3b-4ae9-ad01-55f7d868e6c5-c001.snappy.parquet → 0.00 MB\n",
      "   part-00012-044351c2-bffd-43ee-ad47-6e57b40774fe-c001.snappy.parquet → 0.00 MB\n",
      "   part-00012-0c82fd50-2ea5-4790-b7e2-0a3e86add4cb-c000.snappy.parquet → 1.01 MB\n",
      "   part-00013-4d2d7d8a-3e54-417d-8d5f-f172fa45642f-c001.snappy.parquet → 0.00 MB\n",
      "   part-00013-6191f26c-3d81-4fdc-9743-50e2687d3dd0-c000.snappy.parquet → 1.02 MB\n",
      "   part-00014-100e5fe5-11c4-492b-ba34-9c74d8bb013a-c001.snappy.parquet → 0.00 MB\n",
      "   part-00014-33323338-c5a5-4fbb-8d37-5fe3e5a56011-c000.snappy.parquet → 1.01 MB\n",
      "   part-00015-5b4bc4b3-5f25-404c-8169-e2af592fce21-c000.snappy.parquet → 1.01 MB\n",
      "   part-00015-eef958ef-45a6-4cc8-946e-7cfc11572638-c001.snappy.parquet → 0.00 MB\n",
      "   part-00016-3dcdafb3-fc25-4a33-b221-7bb908647c47-c001.snappy.parquet → 0.00 MB\n",
      "   part-00016-e476d4ad-e08e-4795-9812-ad26654a5289-c000.snappy.parquet → 1.02 MB\n",
      "   part-00017-a00824cc-4428-4a8d-8132-e6390f91b615-c001.snappy.parquet → 0.00 MB\n",
      "   part-00017-d1b5dc8c-86ea-444d-9fac-ddb059cf5aff-c000.snappy.parquet → 1.02 MB\n",
      "   part-00018-c25e3c3c-21b5-42ed-b254-615c4edeee0a-c000.snappy.parquet → 1.01 MB\n",
      "   part-00018-c9c8c27b-1555-4b8f-abd1-ef1ce5eb0385-c001.snappy.parquet → 0.00 MB\n",
      "   part-00019-528674c8-ea9e-4db1-9e26-785923151104-c001.snappy.parquet → 0.00 MB\n",
      "   part-00019-8e55c195-b226-4769-a196-03148d0d7c0b-c000.snappy.parquet → 1.02 MB\n",
      "[INFO] Showing geolocation table (first 5 rows):\n",
      "+---------------------------+-------------------+-------------------+------------------+-----------------+\n",
      "|geolocation_zip_code_prefix|geolocation_lat    |geolocation_lng    |geolocation_city  |geolocation_state|\n",
      "+---------------------------+-------------------+-------------------+------------------+-----------------+\n",
      "|88330                      |-27.003944999999945|-48.621013999999974|balneario camboriu|SC               |\n",
      "|90010                      |-30.029195912574284|-51.2287437356454  |porto alegre      |RS               |\n",
      "|97501                      |-29.75988059970312 |-57.098742723651746|uruguaiana        |RS               |\n",
      "|85884                      |-25.276643391546028|-54.07998095053973 |medianeira        |PR               |\n",
      "|90010                      |-30.03628829058232 |-51.23914382861103 |porto alegre      |RS               |\n",
      "+---------------------------+-------------------+-------------------+------------------+-----------------+\n",
      "only showing top 5 rows\n",
      "\n",
      "\n",
      "[INFO] Ingesting category_translation → ../delta/bronze/category_translation\n",
      "[INFO] Ingested ../data/product_category_name_translation.csv → ../delta/bronze/category_translation\n",
      "[INFO] Files written under ../delta/bronze/category_translation:\n",
      "   part-00000-99734796-610b-4d9e-9f37-b0b7be8cfcb1-c000.snappy.parquet → 0.00 MB\n",
      "   part-00001-51250428-b405-4cf8-89e8-2e5602e03ca5-c000.snappy.parquet → 0.00 MB\n",
      "[INFO] Showing category_translation table (first 5 rows):\n",
      "+---------------------+-----------------------------+\n",
      "|product_category_name|product_category_name_english|\n",
      "+---------------------+-----------------------------+\n",
      "|cama_mesa_banho      |bed_bath_table               |\n",
      "|utilidades_domesticas|housewares                   |\n",
      "|casa_conforto_2      |home_comfort_2               |\n",
      "|cds_dvds_musicais    |cds_dvds_musicals            |\n",
      "|artigos_de_festas    |party_supplies               |\n",
      "+---------------------+-----------------------------+\n",
      "only showing top 5 rows\n",
      "\n"
     ]
    }
   ],
   "source": [
    "for name, filename in datasets.items():\n",
    "    input_path = f\"{base_input}{filename}\"\n",
    "    output_path = f\"{bronze_output}{name}\"\n",
    "\n",
    "    print(f\"\\n[INFO] Ingesting {name} → {output_path}\")\n",
    "    \n",
    "    if name == \"orders\":  # partition only orders\n",
    "        ingest_csv(spark, input_path, output_path, partition_col=\"order_purchase_month\", target_file_rows=50000)\n",
    "    else:\n",
    "        ingest_csv(spark, input_path, output_path, target_file_rows=50000)\n",
    "\n",
    "    # Read back from Delta & show\n",
    "    df = spark.read.format(\"delta\").load(output_path)\n",
    "    print(f\"[INFO] Showing {name} table (first 5 rows):\")\n",
    "    df.show(5, truncate=False)\n"
   ]
  },
  {
   "cell_type": "code",
   "execution_count": 8,
   "id": "e221fa00-832e-4f7c-afcf-7051b21d0c58",
   "metadata": {},
   "outputs": [
    {
     "name": "stdout",
     "output_type": "stream",
     "text": [
      "Bronze layer  ingestion completed successfully!\n"
     ]
    }
   ],
   "source": [
    "print(\"Bronze layer  ingestion completed successfully!\")"
   ]
  },
  {
   "cell_type": "code",
   "execution_count": 9,
   "id": "77b6a1a4-c857-4234-934b-d3fb38f4476e",
   "metadata": {},
   "outputs": [],
   "source": [
    "silver_output = \"../delta/silver/\"\n"
   ]
  },
  {
   "cell_type": "code",
   "execution_count": 10,
   "id": "6c41411f-82ae-4337-bda3-3f21d49d2393",
   "metadata": {},
   "outputs": [
    {
     "name": "stdout",
     "output_type": "stream",
     "text": [
      " Silver layer sales curated and saved at ../delta/silver//sales\n"
     ]
    }
   ],
   "source": [
    "# Curate Silver Layer\n",
    "curate_sales(spark, bronze_base=bronze_output, silver_base=silver_output)"
   ]
  },
  {
   "cell_type": "code",
   "execution_count": 11,
   "id": "a1fcc05f-faca-4d69-a8a4-5920398924ee",
   "metadata": {},
   "outputs": [
    {
     "name": "stdout",
     "output_type": "stream",
     "text": [
      "\n",
      "[INFO] Silver Layer Sales Table:\n",
      "+--------------------------------+--------------------------------+--------------------------------+--------------------------------+------------+------------------------+-------------------+----------------------------+-----------------------------+-----------------------------+--------------------+-------------+-------------------+-----+-------------+-----------+------------------+------------+--------------------+-------------+--------------------------------+------------------------+--------------+--------------+----------------------+-----------+------------+---------------------------------+-------------------+--------------------------+------------------+----------------+-----------------+-----------------+----------------+-------------------------------+\n",
      "|product_id                      |seller_id                       |customer_id                     |order_id                        |order_status|order_purchase_timestamp|order_approved_at  |order_delivered_carrier_date|order_delivered_customer_date|order_estimated_delivery_date|order_purchase_month|order_item_id|shipping_limit_date|price|freight_value|seller_salt|payment_sequential|payment_type|payment_installments|payment_value|customer_unique_id              |customer_zip_code_prefix|customer_city |customer_state|seller_zip_code_prefix|seller_city|seller_state|product_category_name            |product_name_lenght|product_description_lenght|product_photos_qty|product_weight_g|product_length_cm|product_height_cm|product_width_cm|product_category_name_english  |\n",
      "+--------------------------------+--------------------------------+--------------------------------+--------------------------------+------------+------------------------+-------------------+----------------------------+-----------------------------+-----------------------------+--------------------+-------------+-------------------+-----+-------------+-----------+------------------+------------+--------------------+-------------+--------------------------------+------------------------+--------------+--------------+----------------------+-----------+------------+---------------------------------+-------------------+--------------------------+------------------+----------------+-----------------+-----------------+----------------+-------------------------------+\n",
      "|905b384ac5667170689505bbf30f1d07|1900267e848ceeba8fa32d80c1a5f5a8|38f922165655e82d3738da81a442a33c|e91a90c1253592e046513873529f6431|delivered   |2017-11-22 10:49:45     |2017-11-22 11:07:21|2017-11-23 01:09:06         |2017-12-04 19:36:56          |2017-12-13 00:00:00          |2017-11             |1            |2017-11-28 11:07:21|80.0 |16.32        |3          |1                 |credit_card |4                   |192.64       |e0b0573706f90e81a743b90e8d9f3a28|35790                   |curvelo       |mg            |14940                 |ibitinga   |sp          |cama_mesa_banho                  |53                 |504                       |1                 |1600            |45               |15               |30              |bed_bath_table                 |\n",
      "|905b384ac5667170689505bbf30f1d07|1900267e848ceeba8fa32d80c1a5f5a8|38f922165655e82d3738da81a442a33c|e91a90c1253592e046513873529f6431|delivered   |2017-11-22 10:49:45     |2017-11-22 11:07:21|2017-11-23 01:09:06         |2017-12-04 19:36:56          |2017-12-13 00:00:00          |2017-11             |2            |2017-11-28 11:07:21|80.0 |16.32        |2          |1                 |credit_card |4                   |192.64       |e0b0573706f90e81a743b90e8d9f3a28|35790                   |curvelo       |mg            |14940                 |ibitinga   |sp          |cama_mesa_banho                  |53                 |504                       |1                 |1600            |45               |15               |30              |bed_bath_table                 |\n",
      "|3b42242085259cb66b6e577ae5173c76|972d0f9cf61b499a4812cf0bfa3ad3c4|0afb9f2fc0523d0e5463246808c31e1e|61fd474f23e735d729ba931e1c63b25d|delivered   |2017-11-07 20:44:38     |2017-11-07 21:47:09|2017-11-09 21:24:39         |2017-11-22 22:36:54          |2017-12-01 00:00:00          |2017-11             |1            |2017-11-13 21:46:39|69.2 |19.72        |3          |1                 |credit_card |3                   |88.92        |2c8360a0e6e2b719c070ff3a84179dc6|30550                   |belo horizonte|mg            |88359                 |brusque    |sc          |cama_mesa_banho                  |33                 |1061                      |1                 |1600            |26               |21               |23              |bed_bath_table                 |\n",
      "|4d7fee7877228c1497477ae53d97c214|001cca7ae9ae17fb1caed9dfb1094831|f8fa3c7d2eedd1a1bd9b591b89a2ac41|8635ed3e0c954b79a025272350785b49|delivered   |2017-11-13 16:43:02     |2017-11-13 17:08:34|2017-11-16 18:51:49         |2017-11-27 15:57:00          |2017-12-04 00:00:00          |2017-11             |1            |2017-11-20 17:08:34|89.0 |32.09        |0          |1                 |credit_card |1                   |121.09       |04dc486e3352a8ef6d749736321018f6|4108                    |sao paulo     |sp            |29156                 |cariacica  |es          |construcao_ferramentas_construcao|28                 |409                       |1                 |8650            |44               |14               |40              |construction_tools_construction|\n",
      "|d04857e7b4b708ee8b8b9921163edba3|9f505651f4a6abe901a56cdc21508025|5abd71c24c8846922c08d60841d64791|1c8e9b2af72bd475a280fe4e56ca4364|delivered   |2017-11-08 18:01:32     |2017-11-09 04:31:07|2017-11-09 18:32:13         |2017-11-14 21:04:58          |2017-11-23 00:00:00          |2017-11             |1            |2017-11-16 03:07:19|68.99|8.72         |1          |1                 |boleto      |1                   |77.71        |39513b1ac57bc82c9b3f298820a89bb6|13190                   |monte mor     |sp            |4102                  |sao paulo  |sp          |informatica_acessorios           |33                 |1127                      |2                 |450             |16               |4                |20              |computers_accessories          |\n",
      "+--------------------------------+--------------------------------+--------------------------------+--------------------------------+------------+------------------------+-------------------+----------------------------+-----------------------------+-----------------------------+--------------------+-------------+-------------------+-----+-------------+-----------+------------------+------------+--------------------+-------------+--------------------------------+------------------------+--------------+--------------+----------------------+-----------+------------+---------------------------------+-------------------+--------------------------+------------------+----------------+-----------------+-----------------+----------------+-------------------------------+\n",
      "only showing top 5 rows\n",
      "\n"
     ]
    }
   ],
   "source": [
    "# Verify Silver\n",
    "print(\"\\n[INFO] Silver Layer Sales Table:\")\n",
    "sales_df = spark.read.format(\"delta\").load(f\"{silver_output}/sales\")\n",
    "sales_df.show(5, truncate=False)"
   ]
  },
  {
   "cell_type": "code",
   "execution_count": 12,
   "id": "dc528c09-779c-4930-9f8c-46b0a3b3fd2b",
   "metadata": {},
   "outputs": [
    {
     "name": "stdout",
     "output_type": "stream",
     "text": [
      "+--------------------+-----------+\n",
      "|           seller_id|seller_salt|\n",
      "+--------------------+-----------+\n",
      "|52a52b9f656520e99...|          1|\n",
      "|b0b346d3a89f5eb4c...|          0|\n",
      "|41b39e28db005d973...|          1|\n",
      "|0b90b6df587eb8360...|          4|\n",
      "|0ea22c1cfbdc755f8...|          2|\n",
      "|7142540dd4c91e223...|          1|\n",
      "|b335c59ab742f751a...|          3|\n",
      "|1430239a858e7682b...|          2|\n",
      "|626ab1cd96932367f...|          1|\n",
      "|a5ff20ff766e7f50b...|          0|\n",
      "+--------------------+-----------+\n",
      "only showing top 10 rows\n",
      "\n"
     ]
    }
   ],
   "source": [
    "sales_df.select(\"seller_id\", \"seller_salt\").distinct().show(10)"
   ]
  },
  {
   "cell_type": "code",
   "execution_count": 13,
   "id": "93389931-c19e-4cae-97d2-f4b87529625e",
   "metadata": {},
   "outputs": [
    {
     "name": "stdout",
     "output_type": "stream",
     "text": [
      "Customer city samples: ['igrejinha', 'aguas de sao pedro', 'camacari', 'arapiraca', 'pote']\n",
      "Customer state samples: ['pi', 'pr', 'rj', 'pb', 'ro']\n",
      "Seller city samples: ['igrejinha', 'brusque', 'buritama', 'sao joao de meriti', 'garca']\n",
      "Seller state samples: ['pi', 'pr', 'rj', 'pb', 'ro']\n"
     ]
    }
   ],
   "source": [
    "# Unique city/state samples for customers & sellers\n",
    "silver_path = \"../delta/silver/\"\n",
    "customers_df = spark.read.format(\"delta\").load(silver_path + \"customers\")\n",
    "sellers_df = spark.read.format(\"delta\").load(silver_path + \"sellers\")\n",
    "\n",
    "print(\"Customer city samples:\", [row.customer_city for row in customers_df.select(\"customer_city\").distinct().limit(5).collect()])\n",
    "print(\"Customer state samples:\", [row.customer_state for row in customers_df.select(\"customer_state\").distinct().limit(5).collect()])\n",
    "\n",
    "print(\"Seller city samples:\", [row.seller_city for row in sellers_df.select(\"seller_city\").distinct().limit(5).collect()])\n",
    "print(\"Seller state samples:\", [row.seller_state for row in sellers_df.select(\"seller_state\").distinct().limit(5).collect()])"
   ]
  },
  {
   "cell_type": "code",
   "execution_count": 14,
   "id": "e182f338-b320-46f5-ace3-fee2aead8eff",
   "metadata": {},
   "outputs": [
    {
     "name": "stdout",
     "output_type": "stream",
     "text": [
      "Duplicate customers: 0\n",
      "Duplicate sellers: 0\n"
     ]
    }
   ],
   "source": [
    "print(\"Duplicate customers:\", customers_df.count() - customers_df.dropDuplicates([\"customer_id\"]).count())\n",
    "print(\"Duplicate sellers:\", sellers_df.count() - sellers_df.dropDuplicates([\"seller_id\"]).count())"
   ]
  },
  {
   "cell_type": "code",
   "execution_count": 15,
   "id": "88442390-509d-4db9-a7ec-b51db6516130",
   "metadata": {},
   "outputs": [
    {
     "name": "stdout",
     "output_type": "stream",
     "text": [
      "Sample seller_id_salted:\n",
      "+-----------+\n",
      "|seller_salt|\n",
      "+-----------+\n",
      "|1          |\n",
      "|3          |\n",
      "|4          |\n",
      "|2          |\n",
      "|0          |\n",
      "+-----------+\n",
      "\n"
     ]
    }
   ],
   "source": [
    "sales_df = spark.read.format(\"delta\").load(silver_path + \"sales\")\n",
    "\n",
    "print(\"Sample seller_id_salted:\")\n",
    "sales_df.select(\"seller_salt\").distinct().show(10, truncate=False)"
   ]
  },
  {
   "cell_type": "code",
   "execution_count": 16,
   "id": "3b5d83fe-4470-44d8-842a-bf07081f53d1",
   "metadata": {},
   "outputs": [],
   "source": [
    "gold_base = \"../delta/gold/\""
   ]
  },
  {
   "cell_type": "code",
   "execution_count": 17,
   "id": "8beff8f3-41d5-436d-801f-a2274cce8ab0",
   "metadata": {},
   "outputs": [
    {
     "name": "stdout",
     "output_type": "stream",
     "text": [
      "Gold table created at ../delta/gold//daily_sales_state (customer + seller state revenue)\n"
     ]
    }
   ],
   "source": [
    "# Run Gold marts\n",
    "create_daily_sales_state(spark, silver_path, gold_base)"
   ]
  },
  {
   "cell_type": "code",
   "execution_count": 18,
   "id": "7153dde0-b66a-4bd4-80b9-8b21d9c082a2",
   "metadata": {},
   "outputs": [
    {
     "name": "stdout",
     "output_type": "stream",
     "text": [
      "Sample Gold table:\n",
      "+----------+--------------+------------+------------------+\n",
      "|order_date|customer_state|seller_state|daily_revenue     |\n",
      "+----------+--------------+------------+------------------+\n",
      "|2017-02-27|al            |sp          |58.39             |\n",
      "|2017-02-27|ba            |sp          |361.98            |\n",
      "|2017-02-27|mg            |mg          |72.5              |\n",
      "|2017-02-27|mg            |sp          |437.03000000000003|\n",
      "|2017-02-27|mt            |es          |242.10000000000002|\n",
      "+----------+--------------+------------+------------------+\n",
      "only showing top 5 rows\n",
      "\n"
     ]
    }
   ],
   "source": [
    "# Verify Gold table\n",
    "df_gold = spark.read.format(\"delta\").load(f\"{gold_base}/daily_sales_state\")\n",
    "print(\"Sample Gold table:\")\n",
    "df_gold.show(5, truncate=False)\n"
   ]
  },
  {
   "cell_type": "code",
   "execution_count": 20,
   "id": "b86aeae2-9e4c-41b3-87a4-053ecbf7f832",
   "metadata": {},
   "outputs": [],
   "source": [
    "# Load sales table\n",
    "sales = spark.read.format(\"delta\").load(f\"{silver_path}/sales\")"
   ]
  },
  {
   "cell_type": "code",
   "execution_count": 22,
   "id": "095c03c0-6196-46f4-abb1-a035364d6586",
   "metadata": {},
   "outputs": [
    {
     "name": "stdout",
     "output_type": "stream",
     "text": [
      "+--------------+------------------+\n",
      "|customer_state|        sum(price)|\n",
      "+--------------+------------------+\n",
      "|            pi| 90156.87999999996|\n",
      "|            pr| 685703.6699999984|\n",
      "|            rj|1849589.9499999874|\n",
      "|            pb|120634.06000000007|\n",
      "|            ro| 45176.64999999999|\n",
      "|            ba| 526261.0800000001|\n",
      "|          NULL|439617.68000000075|\n",
      "|            ms|116679.15999999999|\n",
      "|            mg|1592170.1999999825|\n",
      "|            go| 301968.0600000005|\n",
      "|            sc| 516302.6900000002|\n",
      "|            es|273704.54000000056|\n",
      "|            rs| 759279.2699999973|\n",
      "|            rn| 92823.27000000002|\n",
      "|            pe| 263488.0700000005|\n",
      "|            ce|235778.63000000032|\n",
      "|            ap|           13454.3|\n",
      "|            sp|  5270066.25000016|\n",
      "|            al| 80083.78999999996|\n",
      "|            ac|          16146.34|\n",
      "+--------------+------------------+\n",
      "only showing top 20 rows\n",
      "\n",
      "AQE OFF runtime: 4.383326768875122\n",
      "+--------------+------------------+\n",
      "|customer_state|        sum(price)|\n",
      "+--------------+------------------+\n",
      "|            pi| 90156.87999999996|\n",
      "|            pr| 685703.6699999984|\n",
      "|            rj|1849589.9499999874|\n",
      "|            pb|120634.06000000007|\n",
      "|            ro| 45176.64999999999|\n",
      "|            ba| 526261.0800000001|\n",
      "|          NULL|439617.68000000075|\n",
      "|            ms|116679.15999999999|\n",
      "|            mg|1592170.1999999825|\n",
      "|            go| 301968.0600000005|\n",
      "|            sc| 516302.6900000002|\n",
      "|            es|273704.54000000056|\n",
      "|            rs| 759279.2699999973|\n",
      "|            rn| 92823.27000000002|\n",
      "|            pe| 263488.0700000005|\n",
      "|            ce|235778.63000000032|\n",
      "|            ap|           13454.3|\n",
      "|            sp|  5270066.25000016|\n",
      "|            al| 80083.78999999996|\n",
      "|            ac|          16146.34|\n",
      "+--------------+------------------+\n",
      "only showing top 20 rows\n",
      "\n",
      "AQE ON runtime: 1.7412898540496826\n"
     ]
    }
   ],
   "source": [
    "import time\n",
    "# AQE OFF\n",
    "spark.conf.set(\"spark.sql.adaptive.enabled\", \"false\")\n",
    "start = time.time()\n",
    "sales.groupBy(\"customer_state\").sum(\"price\").show()\n",
    "print(\"AQE OFF runtime:\", time.time() - start)\n",
    "\n",
    "# AQE ON\n",
    "spark.conf.set(\"spark.sql.adaptive.enabled\", \"true\")\n",
    "start = time.time()\n",
    "sales.groupBy(\"customer_state\").sum(\"price\").show()\n",
    "print(\"AQE ON runtime:\", time.time() - start)"
   ]
  },
  {
   "cell_type": "code",
   "execution_count": 24,
   "id": "f3637bc6-92fd-41a0-91bf-d49ef42eb1a5",
   "metadata": {},
   "outputs": [
    {
     "name": "stdout",
     "output_type": "stream",
     "text": [
      "== Parsed Logical Plan ==\n",
      "'Join UsingJoin(Inner, [customer_id])\n",
      ":- Relation [product_id#40264,seller_id#40265,customer_id#40266,order_id#40267,order_status#40268,order_purchase_timestamp#40269,order_approved_at#40270,order_delivered_carrier_date#40271,order_delivered_customer_date#40272,order_estimated_delivery_date#40273,order_purchase_month#40274,order_item_id#40275,shipping_limit_date#40276,price#40277,freight_value#40278,seller_salt#40279,payment_sequential#40280,payment_type#40281,payment_installments#40282,payment_value#40283,customer_unique_id#40284,customer_zip_code_prefix#40285,customer_city#40286,customer_state#40287,... 12 more fields] parquet\n",
      "+- Relation [customer_id#40654,customer_unique_id#40655,customer_zip_code_prefix#40656,customer_city#40657,customer_state#40658] parquet\n",
      "\n",
      "== Analyzed Logical Plan ==\n",
      "customer_id: string, product_id: string, seller_id: string, order_id: string, order_status: string, order_purchase_timestamp: timestamp, order_approved_at: timestamp, order_delivered_carrier_date: timestamp, order_delivered_customer_date: timestamp, order_estimated_delivery_date: timestamp, order_purchase_month: string, order_item_id: int, shipping_limit_date: timestamp, price: double, freight_value: double, seller_salt: int, payment_sequential: int, payment_type: string, payment_installments: int, payment_value: double, customer_unique_id: string, customer_zip_code_prefix: int, customer_city: string, customer_state: string, ... 16 more fields\n",
      "Project [customer_id#40266, product_id#40264, seller_id#40265, order_id#40267, order_status#40268, order_purchase_timestamp#40269, order_approved_at#40270, order_delivered_carrier_date#40271, order_delivered_customer_date#40272, order_estimated_delivery_date#40273, order_purchase_month#40274, order_item_id#40275, shipping_limit_date#40276, price#40277, freight_value#40278, seller_salt#40279, payment_sequential#40280, payment_type#40281, payment_installments#40282, payment_value#40283, customer_unique_id#40284, customer_zip_code_prefix#40285, customer_city#40286, customer_state#40287, ... 16 more fields]\n",
      "+- Join Inner, (customer_id#40266 = customer_id#40654)\n",
      "   :- Relation [product_id#40264,seller_id#40265,customer_id#40266,order_id#40267,order_status#40268,order_purchase_timestamp#40269,order_approved_at#40270,order_delivered_carrier_date#40271,order_delivered_customer_date#40272,order_estimated_delivery_date#40273,order_purchase_month#40274,order_item_id#40275,shipping_limit_date#40276,price#40277,freight_value#40278,seller_salt#40279,payment_sequential#40280,payment_type#40281,payment_installments#40282,payment_value#40283,customer_unique_id#40284,customer_zip_code_prefix#40285,customer_city#40286,customer_state#40287,... 12 more fields] parquet\n",
      "   +- Relation [customer_id#40654,customer_unique_id#40655,customer_zip_code_prefix#40656,customer_city#40657,customer_state#40658] parquet\n",
      "\n",
      "== Optimized Logical Plan ==\n",
      "Project [customer_id#40266, product_id#40264, seller_id#40265, order_id#40267, order_status#40268, order_purchase_timestamp#40269, order_approved_at#40270, order_delivered_carrier_date#40271, order_delivered_customer_date#40272, order_estimated_delivery_date#40273, order_purchase_month#40274, order_item_id#40275, shipping_limit_date#40276, price#40277, freight_value#40278, seller_salt#40279, payment_sequential#40280, payment_type#40281, payment_installments#40282, payment_value#40283, customer_unique_id#40284, customer_zip_code_prefix#40285, customer_city#40286, customer_state#40287, ... 16 more fields]\n",
      "+- Join Inner, (customer_id#40266 = customer_id#40654)\n",
      "   :- Filter isnotnull(customer_id#40266)\n",
      "   :  +- Relation [product_id#40264,seller_id#40265,customer_id#40266,order_id#40267,order_status#40268,order_purchase_timestamp#40269,order_approved_at#40270,order_delivered_carrier_date#40271,order_delivered_customer_date#40272,order_estimated_delivery_date#40273,order_purchase_month#40274,order_item_id#40275,shipping_limit_date#40276,price#40277,freight_value#40278,seller_salt#40279,payment_sequential#40280,payment_type#40281,payment_installments#40282,payment_value#40283,customer_unique_id#40284,customer_zip_code_prefix#40285,customer_city#40286,customer_state#40287,... 12 more fields] parquet\n",
      "   +- Filter isnotnull(customer_id#40654)\n",
      "      +- Relation [customer_id#40654,customer_unique_id#40655,customer_zip_code_prefix#40656,customer_city#40657,customer_state#40658] parquet\n",
      "\n",
      "== Physical Plan ==\n",
      "AdaptiveSparkPlan isFinalPlan=false\n",
      "+- Project [customer_id#40266, product_id#40264, seller_id#40265, order_id#40267, order_status#40268, order_purchase_timestamp#40269, order_approved_at#40270, order_delivered_carrier_date#40271, order_delivered_customer_date#40272, order_estimated_delivery_date#40273, order_purchase_month#40274, order_item_id#40275, shipping_limit_date#40276, price#40277, freight_value#40278, seller_salt#40279, payment_sequential#40280, payment_type#40281, payment_installments#40282, payment_value#40283, customer_unique_id#40284, customer_zip_code_prefix#40285, customer_city#40286, customer_state#40287, ... 16 more fields]\n",
      "   +- BroadcastHashJoin [customer_id#40266], [customer_id#40654], Inner, BuildRight, false\n",
      "      :- Filter isnotnull(customer_id#40266)\n",
      "      :  +- FileScan parquet [product_id#40264,seller_id#40265,customer_id#40266,order_id#40267,order_status#40268,order_purchase_timestamp#40269,order_approved_at#40270,order_delivered_carrier_date#40271,order_delivered_customer_date#40272,order_estimated_delivery_date#40273,order_purchase_month#40274,order_item_id#40275,shipping_limit_date#40276,price#40277,freight_value#40278,seller_salt#40279,payment_sequential#40280,payment_type#40281,payment_installments#40282,payment_value#40283,customer_unique_id#40284,customer_zip_code_prefix#40285,customer_city#40286,customer_state#40287,... 12 more fields] Batched: true, DataFilters: [isnotnull(customer_id#40266)], Format: Parquet, Location: PreparedDeltaFileIndex(1 paths)[file:/C:/Users/ranjan/Desktop/spark-olist-pipeline/delta/silver/s..., PartitionFilters: [], PushedFilters: [IsNotNull(customer_id)], ReadSchema: struct<product_id:string,seller_id:string,customer_id:string,order_id:string,order_status:string,...\n",
      "      +- BroadcastExchange HashedRelationBroadcastMode(List(input[0, string, false]),false), [plan_id=6000]\n",
      "         +- Filter isnotnull(customer_id#40654)\n",
      "            +- FileScan parquet [customer_id#40654,customer_unique_id#40655,customer_zip_code_prefix#40656,customer_city#40657,customer_state#40658] Batched: true, DataFilters: [isnotnull(customer_id#40654)], Format: Parquet, Location: PreparedDeltaFileIndex(1 paths)[file:/C:/Users/ranjan/Desktop/spark-olist-pipeline/delta/silver/c..., PartitionFilters: [], PushedFilters: [IsNotNull(customer_id)], ReadSchema: struct<customer_id:string,customer_unique_id:string,customer_zip_code_prefix:int,customer_city:st...\n",
      "\n"
     ]
    }
   ],
   "source": [
    "customers = spark.read.format(\"delta\").load(f\"{silver_path}/customers\")\n",
    "\n",
    "# Shuffle Join (default)\n",
    "df1 = sales.join(customers, \"customer_id\")\n",
    "df1.explain(True)\n",
    "\n"
   ]
  },
  {
   "cell_type": "code",
   "execution_count": 25,
   "id": "7605588f-aa0b-4d87-b0ab-a67cb4151045",
   "metadata": {},
   "outputs": [
    {
     "name": "stdout",
     "output_type": "stream",
     "text": [
      "== Parsed Logical Plan ==\n",
      "'Join UsingJoin(Inner, [customer_id])\n",
      ":- Relation [product_id#40264,seller_id#40265,customer_id#40266,order_id#40267,order_status#40268,order_purchase_timestamp#40269,order_approved_at#40270,order_delivered_carrier_date#40271,order_delivered_customer_date#40272,order_estimated_delivery_date#40273,order_purchase_month#40274,order_item_id#40275,shipping_limit_date#40276,price#40277,freight_value#40278,seller_salt#40279,payment_sequential#40280,payment_type#40281,payment_installments#40282,payment_value#40283,customer_unique_id#40284,customer_zip_code_prefix#40285,customer_city#40286,customer_state#40287,... 12 more fields] parquet\n",
      "+- ResolvedHint (strategy=broadcast)\n",
      "   +- Relation [customer_id#40654,customer_unique_id#40655,customer_zip_code_prefix#40656,customer_city#40657,customer_state#40658] parquet\n",
      "\n",
      "== Analyzed Logical Plan ==\n",
      "customer_id: string, product_id: string, seller_id: string, order_id: string, order_status: string, order_purchase_timestamp: timestamp, order_approved_at: timestamp, order_delivered_carrier_date: timestamp, order_delivered_customer_date: timestamp, order_estimated_delivery_date: timestamp, order_purchase_month: string, order_item_id: int, shipping_limit_date: timestamp, price: double, freight_value: double, seller_salt: int, payment_sequential: int, payment_type: string, payment_installments: int, payment_value: double, customer_unique_id: string, customer_zip_code_prefix: int, customer_city: string, customer_state: string, ... 16 more fields\n",
      "Project [customer_id#40266, product_id#40264, seller_id#40265, order_id#40267, order_status#40268, order_purchase_timestamp#40269, order_approved_at#40270, order_delivered_carrier_date#40271, order_delivered_customer_date#40272, order_estimated_delivery_date#40273, order_purchase_month#40274, order_item_id#40275, shipping_limit_date#40276, price#40277, freight_value#40278, seller_salt#40279, payment_sequential#40280, payment_type#40281, payment_installments#40282, payment_value#40283, customer_unique_id#40284, customer_zip_code_prefix#40285, customer_city#40286, customer_state#40287, ... 16 more fields]\n",
      "+- Join Inner, (customer_id#40266 = customer_id#40654)\n",
      "   :- Relation [product_id#40264,seller_id#40265,customer_id#40266,order_id#40267,order_status#40268,order_purchase_timestamp#40269,order_approved_at#40270,order_delivered_carrier_date#40271,order_delivered_customer_date#40272,order_estimated_delivery_date#40273,order_purchase_month#40274,order_item_id#40275,shipping_limit_date#40276,price#40277,freight_value#40278,seller_salt#40279,payment_sequential#40280,payment_type#40281,payment_installments#40282,payment_value#40283,customer_unique_id#40284,customer_zip_code_prefix#40285,customer_city#40286,customer_state#40287,... 12 more fields] parquet\n",
      "   +- ResolvedHint (strategy=broadcast)\n",
      "      +- Relation [customer_id#40654,customer_unique_id#40655,customer_zip_code_prefix#40656,customer_city#40657,customer_state#40658] parquet\n",
      "\n",
      "== Optimized Logical Plan ==\n",
      "Project [customer_id#40266, product_id#40264, seller_id#40265, order_id#40267, order_status#40268, order_purchase_timestamp#40269, order_approved_at#40270, order_delivered_carrier_date#40271, order_delivered_customer_date#40272, order_estimated_delivery_date#40273, order_purchase_month#40274, order_item_id#40275, shipping_limit_date#40276, price#40277, freight_value#40278, seller_salt#40279, payment_sequential#40280, payment_type#40281, payment_installments#40282, payment_value#40283, customer_unique_id#40284, customer_zip_code_prefix#40285, customer_city#40286, customer_state#40287, ... 16 more fields]\n",
      "+- Join Inner, (customer_id#40266 = customer_id#40654), rightHint=(strategy=broadcast)\n",
      "   :- Filter isnotnull(customer_id#40266)\n",
      "   :  +- Relation [product_id#40264,seller_id#40265,customer_id#40266,order_id#40267,order_status#40268,order_purchase_timestamp#40269,order_approved_at#40270,order_delivered_carrier_date#40271,order_delivered_customer_date#40272,order_estimated_delivery_date#40273,order_purchase_month#40274,order_item_id#40275,shipping_limit_date#40276,price#40277,freight_value#40278,seller_salt#40279,payment_sequential#40280,payment_type#40281,payment_installments#40282,payment_value#40283,customer_unique_id#40284,customer_zip_code_prefix#40285,customer_city#40286,customer_state#40287,... 12 more fields] parquet\n",
      "   +- Filter isnotnull(customer_id#40654)\n",
      "      +- Relation [customer_id#40654,customer_unique_id#40655,customer_zip_code_prefix#40656,customer_city#40657,customer_state#40658] parquet\n",
      "\n",
      "== Physical Plan ==\n",
      "AdaptiveSparkPlan isFinalPlan=false\n",
      "+- Project [customer_id#40266, product_id#40264, seller_id#40265, order_id#40267, order_status#40268, order_purchase_timestamp#40269, order_approved_at#40270, order_delivered_carrier_date#40271, order_delivered_customer_date#40272, order_estimated_delivery_date#40273, order_purchase_month#40274, order_item_id#40275, shipping_limit_date#40276, price#40277, freight_value#40278, seller_salt#40279, payment_sequential#40280, payment_type#40281, payment_installments#40282, payment_value#40283, customer_unique_id#40284, customer_zip_code_prefix#40285, customer_city#40286, customer_state#40287, ... 16 more fields]\n",
      "   +- BroadcastHashJoin [customer_id#40266], [customer_id#40654], Inner, BuildRight, false\n",
      "      :- Filter isnotnull(customer_id#40266)\n",
      "      :  +- FileScan parquet [product_id#40264,seller_id#40265,customer_id#40266,order_id#40267,order_status#40268,order_purchase_timestamp#40269,order_approved_at#40270,order_delivered_carrier_date#40271,order_delivered_customer_date#40272,order_estimated_delivery_date#40273,order_purchase_month#40274,order_item_id#40275,shipping_limit_date#40276,price#40277,freight_value#40278,seller_salt#40279,payment_sequential#40280,payment_type#40281,payment_installments#40282,payment_value#40283,customer_unique_id#40284,customer_zip_code_prefix#40285,customer_city#40286,customer_state#40287,... 12 more fields] Batched: true, DataFilters: [isnotnull(customer_id#40266)], Format: Parquet, Location: PreparedDeltaFileIndex(1 paths)[file:/C:/Users/ranjan/Desktop/spark-olist-pipeline/delta/silver/s..., PartitionFilters: [], PushedFilters: [IsNotNull(customer_id)], ReadSchema: struct<product_id:string,seller_id:string,customer_id:string,order_id:string,order_status:string,...\n",
      "      +- BroadcastExchange HashedRelationBroadcastMode(List(input[0, string, false]),false), [plan_id=6052]\n",
      "         +- Filter isnotnull(customer_id#40654)\n",
      "            +- FileScan parquet [customer_id#40654,customer_unique_id#40655,customer_zip_code_prefix#40656,customer_city#40657,customer_state#40658] Batched: true, DataFilters: [isnotnull(customer_id#40654)], Format: Parquet, Location: PreparedDeltaFileIndex(1 paths)[file:/C:/Users/ranjan/Desktop/spark-olist-pipeline/delta/silver/c..., PartitionFilters: [], PushedFilters: [IsNotNull(customer_id)], ReadSchema: struct<customer_id:string,customer_unique_id:string,customer_zip_code_prefix:int,customer_city:st...\n",
      "\n"
     ]
    }
   ],
   "source": [
    "# Broadcast Join\n",
    "df2 = sales.join(broadcast(customers), \"customer_id\")\n",
    "df2.explain(True)"
   ]
  },
  {
   "cell_type": "code",
   "execution_count": 27,
   "id": "e84f89de-823d-49e8-b46a-b2e0385c0f99",
   "metadata": {},
   "outputs": [
    {
     "name": "stdout",
     "output_type": "stream",
     "text": [
      "+----------+------------------+\n",
      "|cust_state|        sum(price)|\n",
      "+----------+------------------+\n",
      "|        pi|           6172.67|\n",
      "|        pr| 74134.08999999997|\n",
      "|        rj|193331.46000000046|\n",
      "|        pb|          10218.29|\n",
      "|        ro|           3191.06|\n",
      "|        ba| 53124.19999999996|\n",
      "|        ms|7291.6500000000015|\n",
      "|        mg|144852.08000000045|\n",
      "|        go|28965.059999999987|\n",
      "|        sc| 48323.62999999996|\n",
      "|        es|36546.059999999976|\n",
      "|        rs|          74071.88|\n",
      "|        rn|           7571.64|\n",
      "|        pe|26286.319999999992|\n",
      "|        ce|24599.549999999992|\n",
      "|        ap|            903.31|\n",
      "|        sp| 540125.6899999973|\n",
      "|        al|10693.050000000001|\n",
      "|        ac|           2071.07|\n",
      "|        mt|          12384.07|\n",
      "+----------+------------------+\n",
      "only showing top 20 rows\n",
      "\n"
     ]
    }
   ],
   "source": [
    "from pyspark.sql.functions import col, floor, rand\n",
    "\n",
    "num_salts = 10\n",
    "# Add salt\n",
    "sales_salted = sales.withColumn(\"salt\", floor(rand()*num_salts))\n",
    "customers_salted = customers.withColumn(\"salt\", floor(rand()*num_salts))\n",
    "\n",
    "# Rename customer_state from customers to avoid ambiguity\n",
    "customers_salted = customers_salted.withColumnRenamed(\"customer_state\", \"cust_state\")\n",
    "\n",
    "# Join on customer_id + salt\n",
    "df_salted = sales_salted.join(customers_salted, [\"customer_id\", \"salt\"])\n",
    "\n",
    "# Group by renamed column\n",
    "df_salted.groupBy(\"cust_state\").sum(\"price\").show()"
   ]
  },
  {
   "cell_type": "code",
   "execution_count": 28,
   "id": "b18cfbf7-3180-4e3b-aaa7-ac63e711869f",
   "metadata": {},
   "outputs": [
    {
     "name": "stdout",
     "output_type": "stream",
     "text": [
      "== Physical Plan ==\n",
      "AdaptiveSparkPlan (8)\n",
      "+- Project (7)\n",
      "   +- BroadcastHashJoin Inner BuildRight (6)\n",
      "      :- Filter (2)\n",
      "      :  +- Scan parquet  (1)\n",
      "      +- BroadcastExchange (5)\n",
      "         +- Filter (4)\n",
      "            +- Scan parquet  (3)\n",
      "\n",
      "\n",
      "(1) Scan parquet \n",
      "Output [36]: [product_id#40264, seller_id#40265, customer_id#40266, order_id#40267, order_status#40268, order_purchase_timestamp#40269, order_approved_at#40270, order_delivered_carrier_date#40271, order_delivered_customer_date#40272, order_estimated_delivery_date#40273, order_purchase_month#40274, order_item_id#40275, shipping_limit_date#40276, price#40277, freight_value#40278, seller_salt#40279, payment_sequential#40280, payment_type#40281, payment_installments#40282, payment_value#40283, customer_unique_id#40284, customer_zip_code_prefix#40285, customer_city#40286, customer_state#40287, seller_zip_code_prefix#40288, seller_city#40289, seller_state#40290, product_category_name#40291, product_name_lenght#40292, product_description_lenght#40293, product_photos_qty#40294, product_weight_g#40295, product_length_cm#40296, product_height_cm#40297, product_width_cm#40298, product_category_name_english#40299]\n",
      "Batched: true\n",
      "Location: PreparedDeltaFileIndex [file:/C:/Users/ranjan/Desktop/spark-olist-pipeline/delta/silver/sales]\n",
      "PushedFilters: [IsNotNull(customer_id)]\n",
      "ReadSchema: struct<product_id:string,seller_id:string,customer_id:string,order_id:string,order_status:string,order_purchase_timestamp:timestamp,order_approved_at:timestamp,order_delivered_carrier_date:timestamp,order_delivered_customer_date:timestamp,order_estimated_delivery_date:timestamp,order_purchase_month:string,order_item_id:int,shipping_limit_date:timestamp,price:double,freight_value:double,seller_salt:int,payment_sequential:int,payment_type:string,payment_installments:int,payment_value:double,customer_unique_id:string,customer_zip_code_prefix:int,customer_city:string,customer_state:string,seller_zip_code_prefix:int,seller_city:string,seller_state:string,product_category_name:string,product_name_lenght:int,product_description_lenght:int,product_photos_qty:int,product_weight_g:int,product_length_cm:int,product_height_cm:int,product_width_cm:int,product_category_name_english:string>\n",
      "\n",
      "(2) Filter\n",
      "Input [36]: [product_id#40264, seller_id#40265, customer_id#40266, order_id#40267, order_status#40268, order_purchase_timestamp#40269, order_approved_at#40270, order_delivered_carrier_date#40271, order_delivered_customer_date#40272, order_estimated_delivery_date#40273, order_purchase_month#40274, order_item_id#40275, shipping_limit_date#40276, price#40277, freight_value#40278, seller_salt#40279, payment_sequential#40280, payment_type#40281, payment_installments#40282, payment_value#40283, customer_unique_id#40284, customer_zip_code_prefix#40285, customer_city#40286, customer_state#40287, seller_zip_code_prefix#40288, seller_city#40289, seller_state#40290, product_category_name#40291, product_name_lenght#40292, product_description_lenght#40293, product_photos_qty#40294, product_weight_g#40295, product_length_cm#40296, product_height_cm#40297, product_width_cm#40298, product_category_name_english#40299]\n",
      "Condition : isnotnull(customer_id#40266)\n",
      "\n",
      "(3) Scan parquet \n",
      "Output [5]: [customer_id#40654, customer_unique_id#40655, customer_zip_code_prefix#40656, customer_city#40657, customer_state#40658]\n",
      "Batched: true\n",
      "Location: PreparedDeltaFileIndex [file:/C:/Users/ranjan/Desktop/spark-olist-pipeline/delta/silver/customers]\n",
      "PushedFilters: [IsNotNull(customer_id)]\n",
      "ReadSchema: struct<customer_id:string,customer_unique_id:string,customer_zip_code_prefix:int,customer_city:string,customer_state:string>\n",
      "\n",
      "(4) Filter\n",
      "Input [5]: [customer_id#40654, customer_unique_id#40655, customer_zip_code_prefix#40656, customer_city#40657, customer_state#40658]\n",
      "Condition : isnotnull(customer_id#40654)\n",
      "\n",
      "(5) BroadcastExchange\n",
      "Input [5]: [customer_id#40654, customer_unique_id#40655, customer_zip_code_prefix#40656, customer_city#40657, customer_state#40658]\n",
      "Arguments: HashedRelationBroadcastMode(List(input[0, string, false]),false), [plan_id=6341]\n",
      "\n",
      "(6) BroadcastHashJoin\n",
      "Left keys [1]: [customer_id#40266]\n",
      "Right keys [1]: [customer_id#40654]\n",
      "Join type: Inner\n",
      "Join condition: None\n",
      "\n",
      "(7) Project\n",
      "Output [40]: [customer_id#40266, product_id#40264, seller_id#40265, order_id#40267, order_status#40268, order_purchase_timestamp#40269, order_approved_at#40270, order_delivered_carrier_date#40271, order_delivered_customer_date#40272, order_estimated_delivery_date#40273, order_purchase_month#40274, order_item_id#40275, shipping_limit_date#40276, price#40277, freight_value#40278, seller_salt#40279, payment_sequential#40280, payment_type#40281, payment_installments#40282, payment_value#40283, customer_unique_id#40284, customer_zip_code_prefix#40285, customer_city#40286, customer_state#40287, seller_zip_code_prefix#40288, seller_city#40289, seller_state#40290, product_category_name#40291, product_name_lenght#40292, product_description_lenght#40293, product_photos_qty#40294, product_weight_g#40295, product_length_cm#40296, product_height_cm#40297, product_width_cm#40298, product_category_name_english#40299, customer_unique_id#40655, customer_zip_code_prefix#40656, customer_city#40657, customer_state#40658]\n",
      "Input [41]: [product_id#40264, seller_id#40265, customer_id#40266, order_id#40267, order_status#40268, order_purchase_timestamp#40269, order_approved_at#40270, order_delivered_carrier_date#40271, order_delivered_customer_date#40272, order_estimated_delivery_date#40273, order_purchase_month#40274, order_item_id#40275, shipping_limit_date#40276, price#40277, freight_value#40278, seller_salt#40279, payment_sequential#40280, payment_type#40281, payment_installments#40282, payment_value#40283, customer_unique_id#40284, customer_zip_code_prefix#40285, customer_city#40286, customer_state#40287, seller_zip_code_prefix#40288, seller_city#40289, seller_state#40290, product_category_name#40291, product_name_lenght#40292, product_description_lenght#40293, product_photos_qty#40294, product_weight_g#40295, product_length_cm#40296, product_height_cm#40297, product_width_cm#40298, product_category_name_english#40299, customer_id#40654, customer_unique_id#40655, customer_zip_code_prefix#40656, customer_city#40657, customer_state#40658]\n",
      "\n",
      "(8) AdaptiveSparkPlan\n",
      "Output [40]: [customer_id#40266, product_id#40264, seller_id#40265, order_id#40267, order_status#40268, order_purchase_timestamp#40269, order_approved_at#40270, order_delivered_carrier_date#40271, order_delivered_customer_date#40272, order_estimated_delivery_date#40273, order_purchase_month#40274, order_item_id#40275, shipping_limit_date#40276, price#40277, freight_value#40278, seller_salt#40279, payment_sequential#40280, payment_type#40281, payment_installments#40282, payment_value#40283, customer_unique_id#40284, customer_zip_code_prefix#40285, customer_city#40286, customer_state#40287, seller_zip_code_prefix#40288, seller_city#40289, seller_state#40290, product_category_name#40291, product_name_lenght#40292, product_description_lenght#40293, product_photos_qty#40294, product_weight_g#40295, product_length_cm#40296, product_height_cm#40297, product_width_cm#40298, product_category_name_english#40299, customer_unique_id#40655, customer_zip_code_prefix#40656, customer_city#40657, customer_state#40658]\n",
      "Arguments: isFinalPlan=false\n",
      "\n",
      "\n"
     ]
    }
   ],
   "source": [
    "df = sales.join(customers, \"customer_id\")\n",
    "df.explain(\"formatted\")  # Detailed plan\n"
   ]
  },
  {
   "cell_type": "code",
   "execution_count": null,
   "id": "587142d3-593c-435f-bb60-6317d16ce666",
   "metadata": {},
   "outputs": [],
   "source": [
    "spark.stop()"
   ]
  }
 ],
 "metadata": {
  "kernelspec": {
   "display_name": "Python 3 (ipykernel)",
   "language": "python",
   "name": "python3"
  },
  "language_info": {
   "codemirror_mode": {
    "name": "ipython",
    "version": 3
   },
   "file_extension": ".py",
   "mimetype": "text/x-python",
   "name": "python",
   "nbconvert_exporter": "python",
   "pygments_lexer": "ipython3",
   "version": "3.10.11"
  }
 },
 "nbformat": 4,
 "nbformat_minor": 5
}
